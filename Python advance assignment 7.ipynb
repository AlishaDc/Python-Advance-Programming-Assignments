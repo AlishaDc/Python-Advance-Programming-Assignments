{
 "cells": [
  {
   "cell_type": "markdown",
   "id": "4e451624",
   "metadata": {},
   "source": [
    "# Q1.\n",
    "\n",
    "The Python try… except statement catches an exception. It is used to test code for an error which is written in the “try” statement. If an error is encountered, the contents of the “except” block are run."
   ]
  },
  {
   "cell_type": "markdown",
   "id": "cc607717",
   "metadata": {},
   "source": [
    "# Q2.\n",
    "\n",
    "try with except block: When try fails except will execute. When try passess, except do not execute\n",
    "\n",
    "try with except and else: When try will execute then only else block will exceute. If try fails then only except block will exceute not else block"
   ]
  },
  {
   "cell_type": "markdown",
   "id": "829b18fe",
   "metadata": {},
   "source": [
    "# Q3.\n",
    "\n",
    "The purpose of the raise statement is manually create an exception explicitly. It can be used to raise user defined exceptions or built in exceptions."
   ]
  },
  {
   "cell_type": "markdown",
   "id": "c4f72ebb",
   "metadata": {},
   "source": [
    "# Q4.\n",
    "\n",
    "An assert statement checks whether a condition is true. If a condition evaluates to True, a program will keep running. If a condition is false, the program will return an AssertionError. At this point, the program will stop executing."
   ]
  },
  {
   "cell_type": "markdown",
   "id": "12e54311",
   "metadata": {},
   "source": [
    "# Q5.\n",
    "\n",
    "with expression [as variable]: with-block\n",
    "\n",
    "with/as statement is designed to automate startup and exit processes that must occur around a block of code."
   ]
  },
  {
   "cell_type": "code",
   "execution_count": null,
   "id": "02b5bc85",
   "metadata": {},
   "outputs": [],
   "source": []
  }
 ],
 "metadata": {
  "kernelspec": {
   "display_name": "Python 3 (ipykernel)",
   "language": "python",
   "name": "python3"
  },
  "language_info": {
   "codemirror_mode": {
    "name": "ipython",
    "version": 3
   },
   "file_extension": ".py",
   "mimetype": "text/x-python",
   "name": "python",
   "nbconvert_exporter": "python",
   "pygments_lexer": "ipython3",
   "version": "3.9.7"
  }
 },
 "nbformat": 4,
 "nbformat_minor": 5
}
