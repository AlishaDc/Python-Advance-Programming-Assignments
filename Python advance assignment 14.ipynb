{
 "cells": [
  {
   "cell_type": "markdown",
   "id": "7ecd81cf",
   "metadata": {},
   "source": [
    "# Q1.\n",
    "\n",
    "+= adds a number/string to a variable, changing the variable itself in the process. Meaning, ( += ) adds the value of the right operand to a variable and assigns the result to the variable.\n",
    "\n",
    "Not really it result in faster performance because it take lesser time to operate and we dont require a new."
   ]
  },
  {
   "cell_type": "markdown",
   "id": "86a571b6",
   "metadata": {},
   "source": [
    "# Q2.\n",
    "\n",
    "In C programming it takes minimum 3 number of statement.\n",
    "\n",
    "c=a+b\n",
    "\n",
    "a=c\n",
    "\n",
    "b=a"
   ]
  },
  {
   "cell_type": "markdown",
   "id": "69721e0d",
   "metadata": {},
   "source": [
    "# Q3."
   ]
  },
  {
   "cell_type": "code",
   "execution_count": 1,
   "id": "3ac3b13e",
   "metadata": {},
   "outputs": [
    {
     "name": "stdout",
     "output_type": "stream",
     "text": [
      "[100, 99, 98, 97, 96, 95, 94, 93, 92, 91, 90, 89, 88, 87, 86, 85, 84, 83, 82, 81, 80, 79, 78, 77, 76, 75, 74, 73, 72, 71, 70, 69, 68, 67, 66, 65, 64, 63, 62, 61, 60, 59, 58, 57, 56, 55, 54, 53, 52, 51, 50, 49, 48, 47, 46, 45, 44, 43, 42, 41, 40, 39, 38, 37, 36, 35, 34, 33, 32, 31, 30, 29, 28, 27, 26, 25, 24, 23, 22, 21, 20, 19, 18, 17, 16, 15, 14, 13, 12, 11, 10, 9, 8, 7, 6, 5, 4, 3, 2, 1, 0]\n"
     ]
    }
   ],
   "source": [
    "#List comprehension\n",
    "\n",
    "print([i for i in range(100,-1,-1)])"
   ]
  },
  {
   "cell_type": "markdown",
   "id": "6e484b26",
   "metadata": {},
   "source": [
    "# Q4."
   ]
  },
  {
   "cell_type": "code",
   "execution_count": 2,
   "id": "4d71a951",
   "metadata": {},
   "outputs": [
    {
     "name": "stdout",
     "output_type": "stream",
     "text": [
      "[1, 2, 3, 1, 2, 3, 1, 2, 3, 1, 2, 3, 1, 2, 3, 1, 2, 3, 1, 2, 3, 1, 2, 3, 1, 2, 3, 1, 2, 3, 1, 2, 3, 1, 2, 3, 1, 2, 3, 1, 2, 3, 1, 2, 3, 1, 2, 3, 1, 2, 3, 1, 2, 3, 1, 2, 3, 1, 2, 3, 1, 2, 3, 1, 2, 3, 1, 2, 3, 1, 2, 3, 1, 2, 3, 1, 2, 3, 1, 2, 3, 1, 2, 3, 1, 2, 3, 1, 2, 3, 1, 2, 3, 1, 2, 3, 1, 2, 3, 1, 2, 3, 1, 2, 3, 1, 2, 3, 1, 2, 3, 1, 2, 3, 1, 2, 3, 1, 2, 3, 1, 2, 3, 1, 2, 3, 1, 2, 3, 1, 2, 3, 1, 2, 3, 1, 2, 3, 1, 2, 3, 1, 2, 3, 1, 2, 3, 1, 2, 3, 1, 2, 3, 1, 2, 3, 1, 2, 3, 1, 2, 3, 1, 2, 3, 1, 2, 3, 1, 2, 3, 1, 2, 3, 1, 2, 3, 1, 2, 3, 1, 2, 3, 1, 2, 3, 1, 2, 3, 1, 2, 3, 1, 2, 3, 1, 2, 3, 1, 2, 3, 1, 2, 3, 1, 2, 3, 1, 2, 3, 1, 2, 3, 1, 2, 3, 1, 2, 3, 1, 2, 3, 1, 2, 3, 1, 2, 3, 1, 2, 3, 1, 2, 3, 1, 2, 3, 1, 2, 3, 1, 2, 3, 1, 2, 3, 1, 2, 3, 1, 2, 3, 1, 2, 3, 1, 2, 3, 1, 2, 3, 1, 2, 3, 1, 2, 3, 1, 2, 3, 1, 2, 3, 1, 2, 3, 1, 2, 3, 1, 2, 3, 1, 2, 3, 1, 2, 3, 1, 2, 3, 1, 2, 3, 1, 2, 3]\n"
     ]
    }
   ],
   "source": [
    "val1=1\n",
    "val2=2\n",
    "val3=3\n",
    "l=[]\n",
    "for i in range(0,99):\n",
    "    l.append(val1)\n",
    "    l.append(val2)\n",
    "    l.append(val3)\n",
    "    \n",
    "print(l)"
   ]
  },
  {
   "cell_type": "markdown",
   "id": "5ae8ac97",
   "metadata": {},
   "source": [
    "# Q5."
   ]
  },
  {
   "cell_type": "code",
   "execution_count": 3,
   "id": "ccc78a0d",
   "metadata": {},
   "outputs": [
    {
     "name": "stdout",
     "output_type": "stream",
     "text": [
      "[[0, 0, 0, 0, 0], [0, 0, 0, 0, 0], [0, 0, 0, 0, 0], [0, 0, 0, 0, 0]]\n"
     ]
    }
   ],
   "source": [
    "m = 4\n",
    "n = 5\n",
    "  \n",
    "a = [[0 for x in range(n)] for x in range(m)]\n",
    "print(a)"
   ]
  },
  {
   "cell_type": "markdown",
   "id": "8e499545",
   "metadata": {},
   "source": [
    "# Q6.\n"
   ]
  },
  {
   "cell_type": "code",
   "execution_count": 4,
   "id": "deeed0e8",
   "metadata": {},
   "outputs": [
    {
     "name": "stdout",
     "output_type": "stream",
     "text": [
      "['a', 's', 't', 'r', 'o', 'p', 'h', 'i', 'l', 'e']\n"
     ]
    }
   ],
   "source": [
    "l=[i for i in 'astrophile']\n",
    "print(l)"
   ]
  },
  {
   "cell_type": "markdown",
   "id": "eacfcf92",
   "metadata": {},
   "source": [
    "# Q7."
   ]
  },
  {
   "cell_type": "code",
   "execution_count": 5,
   "id": "fc94a482",
   "metadata": {},
   "outputs": [
    {
     "name": "stdout",
     "output_type": "stream",
     "text": [
      "Help on built-in function print in module builtins:\n",
      "\n",
      "print(...)\n",
      "    print(value, ..., sep=' ', end='\\n', file=sys.stdout, flush=False)\n",
      "    \n",
      "    Prints the values to a stream, or to sys.stdout by default.\n",
      "    Optional keyword arguments:\n",
      "    file:  a file-like object (stream); defaults to the current sys.stdout.\n",
      "    sep:   string inserted between values, default a space.\n",
      "    end:   string appended after the last value, default a newline.\n",
      "    flush: whether to forcibly flush the stream.\n",
      "\n"
     ]
    }
   ],
   "source": [
    "# By useing help method we can get support with a user-written Python programme.\n",
    "\n",
    "help(print)"
   ]
  },
  {
   "cell_type": "markdown",
   "id": "a577fa71",
   "metadata": {},
   "source": [
    "# Q8.\n",
    "\n",
    "In python there is a beautiful things which we can do with the function. It is called first class function because of the following reasons:\n",
    "\n",
    "It can be use as an argument\n",
    "\n",
    "It can be use in return by some other function\n",
    "\n",
    "It can be act as variable and we can assign some value to it"
   ]
  },
  {
   "cell_type": "markdown",
   "id": "ef47d030",
   "metadata": {},
   "source": [
    "# Q9.\n",
    "\n",
    "Wrappers: It also refers to decorators. It allows programmers to modify the behavior of function or class.\n",
    "\n",
    "Wrapper Function: Wrapper functions can be used as an interface to adapt to the existing codes, so as to save from modifying the codes back and forth. It helps in allowing some codes to run repeadtedly.\n",
    "\n",
    "Decorators: It allows to wrap another function in order to extend the behavior of the wrapped function, without permanently modifying it."
   ]
  },
  {
   "cell_type": "markdown",
   "id": "a6763397",
   "metadata": {},
   "source": [
    "# Q10.\n",
    "\n",
    "A generator is a special type of function which does not return a single value, instead, it returns an iterator object with a sequence of values.In a generator function, a yield statement is used rather than a return statement."
   ]
  },
  {
   "cell_type": "markdown",
   "id": "3352d173",
   "metadata": {},
   "source": [
    "# Q11.\n",
    "\n",
    "Use yield statement instead of print inside the function, to make it a generator function."
   ]
  },
  {
   "cell_type": "markdown",
   "id": "1223aa17",
   "metadata": {},
   "source": [
    "# Q12.\n",
    "\n",
    "One of the advantages of the generator over the iterator is that elements are generated dynamically. Since the next item is generated only after the first is consumed, it is more memory efficient than the iterator."
   ]
  },
  {
   "cell_type": "code",
   "execution_count": null,
   "id": "9bcf1087",
   "metadata": {},
   "outputs": [],
   "source": []
  }
 ],
 "metadata": {
  "kernelspec": {
   "display_name": "Python 3 (ipykernel)",
   "language": "python",
   "name": "python3"
  },
  "language_info": {
   "codemirror_mode": {
    "name": "ipython",
    "version": 3
   },
   "file_extension": ".py",
   "mimetype": "text/x-python",
   "name": "python",
   "nbconvert_exporter": "python",
   "pygments_lexer": "ipython3",
   "version": "3.9.7"
  }
 },
 "nbformat": 4,
 "nbformat_minor": 5
}
