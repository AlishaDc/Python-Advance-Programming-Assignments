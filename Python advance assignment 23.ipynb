{
 "cells": [
  {
   "cell_type": "markdown",
   "id": "daa61003",
   "metadata": {},
   "source": [
    "# Q1.\n",
    "\n",
    "In order to increase the comparison of a graph we can use hue methode to put other columns measure in one figure."
   ]
  },
  {
   "cell_type": "markdown",
   "id": "d1b61188",
   "metadata": {},
   "source": [
    "# Q3.\n",
    "\n",
    "Histogram is a type of a plot which hold the total number of counts or the percentile value in y-axis w.r.t. corresponding x-variables. When we say the number of counts it means that for a particular range in x-axis what will be the number of counts of the data points. When we talk about percentile it shows the probability occurrence of the x-variable or what percentage of data are below that particular percetile value w.r.t. particular x-variable range.\n",
    "\n",
    "Numpy has a built-in numpy. histogram() function"
   ]
  },
  {
   "cell_type": "markdown",
   "id": "f7a8a4fb",
   "metadata": {},
   "source": [
    "# Q4.\n",
    "\n",
    "We can use plt.figure(figsize=(10,8)) function inside the matplot.pyplot library which we scale down or up the graph."
   ]
  },
  {
   "cell_type": "markdown",
   "id": "eff640a8",
   "metadata": {},
   "source": [
    "# Q5."
   ]
  },
  {
   "cell_type": "code",
   "execution_count": 1,
   "id": "be9359fa",
   "metadata": {},
   "outputs": [
    {
     "data": {
      "text/plain": [
       "(array([[ 5,  8, 14],\n",
       "        [23, 35, 50],\n",
       "        [68, 86, 14]]),\n",
       " array([[10, 20, 30],\n",
       "        [40, 50, 60],\n",
       "        [60, 70, 80]]))"
      ]
     },
     "execution_count": 1,
     "metadata": {},
     "output_type": "execute_result"
    }
   ],
   "source": [
    "import numpy as np\n",
    "\n",
    "arr1 = np.array([[5,8,14],[23,35,50],[68,86,14]])\n",
    "arr2 = np.array([[10,20,30],[40,50,60],[60,70,80]])\n",
    "\n",
    "arr1 ,arr2"
   ]
  },
  {
   "cell_type": "code",
   "execution_count": 2,
   "id": "0b046e9d",
   "metadata": {},
   "outputs": [
    {
     "data": {
      "text/plain": [
       "array([[1210, 1480, 1750],\n",
       "       [4630, 5710, 6790],\n",
       "       [4960, 6640, 8320]])"
      ]
     },
     "execution_count": 2,
     "metadata": {},
     "output_type": "execute_result"
    }
   ],
   "source": [
    "np.dot(arr1, arr2)"
   ]
  },
  {
   "cell_type": "code",
   "execution_count": 3,
   "id": "e585805d",
   "metadata": {},
   "outputs": [
    {
     "data": {
      "text/plain": [
       "array([[  50,  100,  150,  200,  250,  300,  300,  350,  400],\n",
       "       [  80,  160,  240,  320,  400,  480,  480,  560,  640],\n",
       "       [ 140,  280,  420,  560,  700,  840,  840,  980, 1120],\n",
       "       [ 230,  460,  690,  920, 1150, 1380, 1380, 1610, 1840],\n",
       "       [ 350,  700, 1050, 1400, 1750, 2100, 2100, 2450, 2800],\n",
       "       [ 500, 1000, 1500, 2000, 2500, 3000, 3000, 3500, 4000],\n",
       "       [ 680, 1360, 2040, 2720, 3400, 4080, 4080, 4760, 5440],\n",
       "       [ 860, 1720, 2580, 3440, 4300, 5160, 5160, 6020, 6880],\n",
       "       [ 140,  280,  420,  560,  700,  840,  840,  980, 1120]])"
      ]
     },
     "execution_count": 3,
     "metadata": {},
     "output_type": "execute_result"
    }
   ],
   "source": [
    "np.outer(arr1, arr2)"
   ]
  },
  {
   "cell_type": "code",
   "execution_count": 4,
   "id": "4a143d93",
   "metadata": {},
   "outputs": [
    {
     "data": {
      "text/plain": [
       "array([[  50,  160,  420],\n",
       "       [ 920, 1750, 3000],\n",
       "       [4080, 6020, 1120]])"
      ]
     },
     "execution_count": 4,
     "metadata": {},
     "output_type": "execute_result"
    }
   ],
   "source": [
    "arr1 * arr2"
   ]
  },
  {
   "cell_type": "markdown",
   "id": "3b894077",
   "metadata": {},
   "source": [
    "# Q6.\n",
    "\n",
    "np.pmt(rate, nper, pv) function we will be using in order to calculate monthly mortgage payment before you purchase a house\n",
    "\n",
    "rate = The periodic interest rate\n",
    "\n",
    "nper = The number of payment periods\n",
    "\n",
    "pv = The total value of the mortgage loan"
   ]
  },
  {
   "cell_type": "markdown",
   "id": "b712f0be",
   "metadata": {},
   "source": [
    "# Q7.\n",
    "\n",
    "Yes an array can store the string.\n",
    "\n",
    "The limitation which imposed on the string data is, whenever we store the data of string dtype then it should should keep in mind that the string which is having the maximum length is the limit.\n",
    "\n",
    "The dtype value is the maximum length of a string in such data. Meaning suppose if any new string we wanted to add, then we can add only that string which have the length either equal to that dtype value or less than tha. If any string which are adding and if its length is more than the dtype value then it will only accpet to maximum length and rest of the characters will not be included."
   ]
  },
  {
   "cell_type": "code",
   "execution_count": null,
   "id": "65729e5c",
   "metadata": {},
   "outputs": [],
   "source": []
  }
 ],
 "metadata": {
  "kernelspec": {
   "display_name": "Python 3 (ipykernel)",
   "language": "python",
   "name": "python3"
  },
  "language_info": {
   "codemirror_mode": {
    "name": "ipython",
    "version": 3
   },
   "file_extension": ".py",
   "mimetype": "text/x-python",
   "name": "python",
   "nbconvert_exporter": "python",
   "pygments_lexer": "ipython3",
   "version": "3.9.7"
  }
 },
 "nbformat": 4,
 "nbformat_minor": 5
}
