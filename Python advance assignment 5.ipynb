{
 "cells": [
  {
   "cell_type": "markdown",
   "id": "190b5e13",
   "metadata": {},
   "source": [
    "# Q1.\n",
    "\n",
    "When a class is derived from more than one base class it is called multiple Inheritance. The derived class inherits all the features of the base case."
   ]
  },
  {
   "cell_type": "markdown",
   "id": "00672678",
   "metadata": {},
   "source": [
    "# Q2.\n",
    "\n",
    "Delegation is an object oriented technique (also called a design pattern). Let's say you have an object x and want to change the behaviour of just one of its methods. You can create a new class that provides a new implementation of the method you're interested in changing and delegates all other methods to the corresponding method of x."
   ]
  },
  {
   "cell_type": "markdown",
   "id": "cf6d7112",
   "metadata": {},
   "source": [
    "# Q3.\n",
    "\n",
    "It is one of the fundamental concepts of Object-Oriented Programming.A class that references to one or more objects of other classes as an Instance variable. Here, by using the class name or by creating the object we can access the members of one class inside another class. It enables creating complex types by combining objects of different classes. It means that a class Composite can contain an object of another class Component"
   ]
  },
  {
   "cell_type": "markdown",
   "id": "bdc713ee",
   "metadata": {},
   "source": [
    "# Q4.\n",
    "\n",
    "Function whcih is defined insid ethe class and take the instance of a class as its first argument is known as bound function. This is because it bounded by the class. It can only perfrom the operation by using the class object."
   ]
  },
  {
   "cell_type": "markdown",
   "id": "e5829cb4",
   "metadata": {},
   "source": [
    "# Q5.\n",
    "\n",
    "When we create a class and put some attributes inside it, those can be used by us within the class. But it may happen that someone other than us can also be use the same attributes with similar name from outside or inside the class. So in that case there will be change in our program codes. This will change the entire meaning of that code. So in order to make it safe from other users we use double underscore ( ) as a notation for private attribues or methods So that others cannot use it and if they able to use it then they cannot be able to access it."
   ]
  },
  {
   "cell_type": "code",
   "execution_count": null,
   "id": "5956513a",
   "metadata": {},
   "outputs": [],
   "source": []
  }
 ],
 "metadata": {
  "kernelspec": {
   "display_name": "Python 3 (ipykernel)",
   "language": "python",
   "name": "python3"
  },
  "language_info": {
   "codemirror_mode": {
    "name": "ipython",
    "version": 3
   },
   "file_extension": ".py",
   "mimetype": "text/x-python",
   "name": "python",
   "nbconvert_exporter": "python",
   "pygments_lexer": "ipython3",
   "version": "3.9.7"
  }
 },
 "nbformat": 4,
 "nbformat_minor": 5
}
