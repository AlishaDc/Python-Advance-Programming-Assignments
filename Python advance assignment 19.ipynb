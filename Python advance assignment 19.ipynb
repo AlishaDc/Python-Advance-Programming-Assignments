{
 "cells": [
  {
   "cell_type": "markdown",
   "id": "0f448118",
   "metadata": {},
   "source": [
    "# Q1.\n",
    "\n",
    "Class is abstraction of an real world entity. It consists of attributes and methods. Instance is an object of a class. It one to many relationship between class and its instatnces."
   ]
  },
  {
   "cell_type": "markdown",
   "id": "560f57f1",
   "metadata": {},
   "source": [
    "# Q2.\n",
    "\n",
    "It store the values of the class attributes. When we give the attributes in the init function as an argument then the values which are stored in the object will get passed to it and attributes gets initialised and later on init function passed these values to the class."
   ]
  },
  {
   "cell_type": "markdown",
   "id": "7d10bb3b",
   "metadata": {},
   "source": [
    "# Q3.\n",
    "\n",
    "A class contains many information. It contains all the information about the attributes, methods function,etc. All kind of behaviours which class have in the form of methods and attributes are held inside the class."
   ]
  },
  {
   "cell_type": "markdown",
   "id": "31b4f62a",
   "metadata": {},
   "source": [
    "# Q4.\n",
    "\n",
    "Amethod is refer to the function only but a difference is that, a method can be perfom inside the class by using the class object. It cannot be perform outside the class.\n",
    "\n",
    "While a standard function is a function which can be access outside any where. Working of both the method and std function is same but there is a difference in accessability."
   ]
  },
  {
   "cell_type": "markdown",
   "id": "a09522b3",
   "metadata": {},
   "source": [
    "# Q5.\n",
    "\n",
    "Yes python do support inheritence in Oops concept. It is possible in python to inherit the behaviour and properties of some other class so as to avoid writing the same code again and again when it is required. We can even do the multiple inheritence. Meaning we can inherit the property of more than onw class into a single class also. Order is matter Followig is the syntax:"
   ]
  },
  {
   "cell_type": "markdown",
   "id": "af92c5a3",
   "metadata": {},
   "source": [
    "# Q6.\n",
    "\n",
    "Encapsulation prevents from accessing accidentally, but not intentionally. The private attributes and methods are not really hidden.The private attributes can be accessed within the object method."
   ]
  },
  {
   "cell_type": "markdown",
   "id": "61d6a044",
   "metadata": {},
   "source": [
    "# Q7.\n",
    "\n",
    "Class variable It is a variable which is declare below the class and outside the init function, where as, instance variable are declared inside the init function.\n",
    "\n",
    "Class variable need a class name to get called as well as it can be called by the class instance name also, where as a instance variable can be called by an object name but not with the class name.\n",
    "\n",
    "Class variable* is Global to all the objects of a class means it is shared accross every object, while, instance variable is only for th eunique data values which are stored by the class instance.\n",
    "\n",
    "Class variable could not override the instance variable but instance variable can override the class variable"
   ]
  },
  {
   "cell_type": "markdown",
   "id": "9b1fdae1",
   "metadata": {},
   "source": [
    "# Q8.\n",
    "\n",
    "Self can included to access the class variables and instance variiables."
   ]
  },
  {
   "cell_type": "markdown",
   "id": "48d3500c",
   "metadata": {},
   "source": [
    "# Q9.\n",
    "\n",
    "When you add two numbers using the + operator, internally, the add() method will be called. We can overload this method to perform."
   ]
  },
  {
   "cell_type": "markdown",
   "id": "5d6b99b8",
   "metadata": {},
   "source": [
    "# Q10.\n",
    "\n",
    "Reflection is a facility where you can query an object about its attributes at runtime. Meaning, we can modify the object variable, create new class atrributes during the run without initialising inside the constructor. It is then display by invoking it as an instance variable. This is an reflection facility. This is needed when we have sudden requirement of any new attributes that has to work with the class."
   ]
  },
  {
   "cell_type": "markdown",
   "id": "80c178de",
   "metadata": {},
   "source": [
    "# Q11.\n",
    "\n",
    "It is an inplace add method which is an built in method. Like that of add , it also adds the two value but unlike add , it stores that value which was calculated.\n",
    "\n",
    "iadd is actually storing value its adding into the instance variable and return the new value"
   ]
  },
  {
   "cell_type": "markdown",
   "id": "8f8f336e",
   "metadata": {},
   "source": [
    "# Q12.\n",
    "\n",
    "init method is basically used for constructing the object variables meaning, initialisation of object variables happen, where the class attributes gets the values from the class instance where the values are stored. So when we want to inherit the attributes/variables of the class then we need to inherit the init method also. This implies that whatever the variables were initialise in the parent class, those will also get initialise in the subclass. We uses super() method in order to call the parent class.\n",
    "\n",
    "We can customise the behaviour of the subclass by declaring some new other attributes and initialising them. However these new attributes will only get accessed by the subclass object. We could use overridding technique also for changing the behaviour of the init method without defining it separately inside the subclass"
   ]
  },
  {
   "cell_type": "code",
   "execution_count": null,
   "id": "66481b59",
   "metadata": {},
   "outputs": [],
   "source": []
  }
 ],
 "metadata": {
  "kernelspec": {
   "display_name": "Python 3 (ipykernel)",
   "language": "python",
   "name": "python3"
  },
  "language_info": {
   "codemirror_mode": {
    "name": "ipython",
    "version": 3
   },
   "file_extension": ".py",
   "mimetype": "text/x-python",
   "name": "python",
   "nbconvert_exporter": "python",
   "pygments_lexer": "ipython3",
   "version": "3.9.7"
  }
 },
 "nbformat": 4,
 "nbformat_minor": 5
}
