{
 "cells": [
  {
   "cell_type": "markdown",
   "id": "d9a78ec6",
   "metadata": {},
   "source": [
    "# Q1.\n",
    "\n",
    "str, bytes and bytearray are the names and functions of string object types."
   ]
  },
  {
   "cell_type": "markdown",
   "id": "2d8ed048",
   "metadata": {},
   "source": [
    "# Q2.\n",
    "\n",
    "In 3.X, Unicode text is handled by str, byte-based data is handled by bytes."
   ]
  },
  {
   "cell_type": "markdown",
   "id": "49fe0245",
   "metadata": {},
   "source": [
    "# Q3.\n",
    "\n",
    "Non-ASCII Unicode characters can be coded in a string with both hex (\\xNN) and Unicode (\\uNNNN, \\UNNNNNNNN) escapes."
   ]
  },
  {
   "cell_type": "markdown",
   "id": "bbe748f2",
   "metadata": {},
   "source": [
    "# Q4.\n",
    "\n",
    "In 3.X,text-mode files assume their file content is Unicode text (even if it’s all ASCII) and automatically decode when reading and encode when writing. With binary-mode files, bytes are transferred to and from the file unchanged."
   ]
  },
  {
   "cell_type": "markdown",
   "id": "9cbe764c",
   "metadata": {},
   "source": [
    "# Q5.\n",
    "\n",
    "In 3.X, to read files encoded in a different encoding than the default for your platform, pass the name of the file’s encoding to the open function. This will decode the contents of the file read."
   ]
  },
  {
   "cell_type": "markdown",
   "id": "3cfbdfc6",
   "metadata": {},
   "source": [
    "# Q6.\n",
    "\n",
    "To create a Unicode text file in a specific encoding format, pass the desired encoding name to open function; strings will be encoded as per encoding when contents are written to the file."
   ]
  },
  {
   "cell_type": "markdown",
   "id": "21b59c72",
   "metadata": {},
   "source": [
    "# Q7.\n",
    "\n",
    "ASCII is subset of the Unicode text."
   ]
  },
  {
   "cell_type": "code",
   "execution_count": null,
   "id": "101b16bf",
   "metadata": {},
   "outputs": [],
   "source": []
  }
 ],
 "metadata": {
  "kernelspec": {
   "display_name": "Python 3 (ipykernel)",
   "language": "python",
   "name": "python3"
  },
  "language_info": {
   "codemirror_mode": {
    "name": "ipython",
    "version": 3
   },
   "file_extension": ".py",
   "mimetype": "text/x-python",
   "name": "python",
   "nbconvert_exporter": "python",
   "pygments_lexer": "ipython3",
   "version": "3.9.7"
  }
 },
 "nbformat": 4,
 "nbformat_minor": 5
}
