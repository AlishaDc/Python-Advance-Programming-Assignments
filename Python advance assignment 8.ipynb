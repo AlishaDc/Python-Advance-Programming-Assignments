{
 "cells": [
  {
   "cell_type": "markdown",
   "id": "d44de491",
   "metadata": {},
   "source": [
    "# Q1.\n",
    "\n",
    "raise statement: With the help of raise keyword we can create a user defined exceptions.\n",
    "\n",
    "assert statement: With the help of the assert keyword we can create an assertion error."
   ]
  },
  {
   "cell_type": "markdown",
   "id": "9cd7aec0",
   "metadata": {},
   "source": [
    "# Q2.\n",
    "\n",
    "Class-based exceptions match by superclass relationships: naming a superclass in an exception handler will catch instances of that class, as well as instances of any of its subclasses lower in the class tree. Because of this, you can think of superclasses as general exception categories and subclasses as more specific types of exceptions within those categories."
   ]
  },
  {
   "cell_type": "markdown",
   "id": "cd2d51e9",
   "metadata": {},
   "source": [
    "# Q3.\n",
    "\n",
    "By passing the instance attributes in the object raised, usually in a custom class constructor.\n",
    "\n",
    "Built-in Exception superclass provide a constructor that stores its arguments on the instance automatically."
   ]
  },
  {
   "cell_type": "markdown",
   "id": "4827dcb3",
   "metadata": {},
   "source": [
    "# Q4.\n",
    "\n",
    "(1) By overloading the str method.\n",
    "\n",
    "(2) By using the Exception superclass which will raise the error by default."
   ]
  },
  {
   "cell_type": "markdown",
   "id": "81c9760a",
   "metadata": {},
   "source": [
    "# Q5.\n",
    "\n",
    "String based exceptions are the messages which we give by ourself so that when error occurs then instead of original exception error message, we get that message which we have written in the string form. But this has some drawback. Suppose an error occured and we wanted to know that which kind or type of error it is, there it failed because we have given the customised error message.\n",
    "\n",
    "So even if wanted to change the mistake occured associated with that error, will be difficult to rectify."
   ]
  },
  {
   "cell_type": "code",
   "execution_count": null,
   "id": "e3502bb7",
   "metadata": {},
   "outputs": [],
   "source": []
  }
 ],
 "metadata": {
  "kernelspec": {
   "display_name": "Python 3 (ipykernel)",
   "language": "python",
   "name": "python3"
  },
  "language_info": {
   "codemirror_mode": {
    "name": "ipython",
    "version": 3
   },
   "file_extension": ".py",
   "mimetype": "text/x-python",
   "name": "python",
   "nbconvert_exporter": "python",
   "pygments_lexer": "ipython3",
   "version": "3.9.7"
  }
 },
 "nbformat": 4,
 "nbformat_minor": 5
}
