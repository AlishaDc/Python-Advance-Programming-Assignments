{
 "cells": [
  {
   "cell_type": "markdown",
   "id": "d147b6f3",
   "metadata": {},
   "source": [
    "# Q1.\n",
    "\n",
    "A parent class is well known as super class from where child class inherit the data. An abstract superclass a parent class from where the subclassess or child classes ae derived or we can say, subclasses can inherit the property of the parent class in the form of data."
   ]
  },
  {
   "cell_type": "markdown",
   "id": "1797f627",
   "metadata": {},
   "source": [
    "# Q2.\n",
    "\n",
    "It is act a simple variable having some value stored in it which can be used as a normal variable while calling any function or variables inside the class. It does not come sunder the class. It is global in nature for the class. It can be used directly by with class or with class object or with any other subclass."
   ]
  },
  {
   "cell_type": "markdown",
   "id": "d4733bb0",
   "metadata": {},
   "source": [
    "# Q3.\n",
    "\n",
    "sub class need to manually call a superclass's init method to instantiate its object in addition to calling its own init .it is done using the super() e.g : super().init(self) this is how the subclass calls the init meyhod of its super class."
   ]
  },
  {
   "cell_type": "markdown",
   "id": "fb7e7ef7",
   "metadata": {},
   "source": [
    "# Q4.\n",
    "\n",
    "The inherited method has to redefined in subclass by calling the parent class equivalent of the inherited method explicitly from the inherited method in the subclass e.g:superclass.method_name(self,..)"
   ]
  },
  {
   "cell_type": "markdown",
   "id": "d99f8baa",
   "metadata": {},
   "source": [
    "# Q5.\n",
    "\n",
    "In case of function, local scope means, whatever the variable is declare locally that will be only operate inside the function. It cannot be use outside the function. Th emost important thing is it can only be used within one function only under which it is declared.\n",
    "\n",
    "In case of class, local scope means, whatever the variable is declared under the class or inside the class that will be used within a class only either by binding it with object of a class or with class itself. Unlike the function, local scope of a variable is not restricted with in one function only. IN class it can be used with any number of function which are defined inside the class."
   ]
  },
  {
   "cell_type": "code",
   "execution_count": null,
   "id": "40e227f0",
   "metadata": {},
   "outputs": [],
   "source": []
  }
 ],
 "metadata": {
  "kernelspec": {
   "display_name": "Python 3 (ipykernel)",
   "language": "python",
   "name": "python3"
  },
  "language_info": {
   "codemirror_mode": {
    "name": "ipython",
    "version": 3
   },
   "file_extension": ".py",
   "mimetype": "text/x-python",
   "name": "python",
   "nbconvert_exporter": "python",
   "pygments_lexer": "ipython3",
   "version": "3.9.7"
  }
 },
 "nbformat": 4,
 "nbformat_minor": 5
}
