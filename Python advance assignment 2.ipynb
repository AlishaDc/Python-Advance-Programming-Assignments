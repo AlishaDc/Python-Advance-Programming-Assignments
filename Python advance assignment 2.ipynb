{
 "cells": [
  {
   "cell_type": "markdown",
   "id": "b60aaa6c",
   "metadata": {},
   "source": [
    "# Q1.\n",
    "\n",
    "A module can contain executable statements as well as function definitions.These statements are intended to initialize the module. They are executed only the first time the module name is encountered in an import statement. Modules can contain functions but also classes.\n",
    "\n",
    "Classes provide a means of bundling data and functionality together. Creating a new class creates a new type of object, allowing new instances of that type to be made. Each class instance can have attributes attached to it for maintaining its state. Class instances can also have methods (defined by its class) for modifying its state."
   ]
  },
  {
   "cell_type": "markdown",
   "id": "fa89a640",
   "metadata": {},
   "source": [
    "# Q2."
   ]
  },
  {
   "cell_type": "code",
   "execution_count": 1,
   "id": "81476792",
   "metadata": {},
   "outputs": [],
   "source": [
    "class student:\n",
    "    def __init__(self):\n",
    "        pass\n",
    "        \n",
    "class_instance = student()"
   ]
  },
  {
   "cell_type": "markdown",
   "id": "b61bc049",
   "metadata": {},
   "source": [
    "# Q3."
   ]
  },
  {
   "cell_type": "code",
   "execution_count": 2,
   "id": "bf65d31b",
   "metadata": {},
   "outputs": [],
   "source": [
    "class student:\n",
    "    cls_attribute=10    #class attribute is created\n",
    "    \n",
    "    def __init__(self):\n",
    "        pass\n",
    "        \n",
    "object=student()"
   ]
  },
  {
   "cell_type": "markdown",
   "id": "89b45b89",
   "metadata": {},
   "source": [
    "# Q4"
   ]
  },
  {
   "cell_type": "code",
   "execution_count": 3,
   "id": "e76b8253",
   "metadata": {},
   "outputs": [],
   "source": [
    "class student:\n",
    "    \n",
    "    def __init__(self,attr1,attr2,attr3):\n",
    "        self.a1=attr1                    \n",
    "        self.a2=attr2\n",
    "        self.a3=attr3\n",
    "        \n",
    "object=student(1,2,3)  "
   ]
  },
  {
   "cell_type": "markdown",
   "id": "212d0872",
   "metadata": {},
   "source": [
    "# Q5.\n",
    "\n",
    "A self act as a pointer to itself. Meaning it pointing to the instance/object, of a class created, binding with the variable which has been initialize and are sending to the class by using init() function."
   ]
  },
  {
   "cell_type": "markdown",
   "id": "5d5484e5",
   "metadata": {},
   "source": [
    "# Q6."
   ]
  },
  {
   "cell_type": "code",
   "execution_count": 6,
   "id": "ef552c06",
   "metadata": {},
   "outputs": [
    {
     "name": "stdout",
     "output_type": "stream",
     "text": [
      "Alisha Zac\n",
      "43\n"
     ]
    }
   ],
   "source": [
    "class student:\n",
    "    def __init__(self,x):\n",
    "        self.x=x\n",
    "    \n",
    "    def __add__(self,other):\n",
    "        return self.x+other.x\n",
    "    \n",
    "object1=student('Alisha ')\n",
    "object2=student('Zac')\n",
    "object3=student(14)\n",
    "object4=student(29)\n",
    "print(object1+object2) # using '+' operator to call __add__ builtin function\n",
    "print(object3+object4) #concatenitaion the two stringprint(object3+object4)"
   ]
  },
  {
   "cell_type": "markdown",
   "id": "720fb894",
   "metadata": {},
   "source": [
    "# Q7.\n",
    "\n",
    "Operator Overloading means giving extended meaning beyond their predefined operational meaning. For example operator + is used to add two integers as well as join two strings and merge two lists. It is achievable because ‘+’ operator is overloaded by int class and str class. The same built-in operator or function shows different behavior for objects of different classes, this is called Operator Overloading.It is normally used for performing mathematical operations like Vector operations etc."
   ]
  },
  {
   "cell_type": "markdown",
   "id": "fa5557cd",
   "metadata": {},
   "source": [
    "# Q8.\n",
    "\n",
    " Generally addition operator is use mostly for operator overloading by using magic method add."
   ]
  },
  {
   "cell_type": "markdown",
   "id": "018217ca",
   "metadata": {},
   "source": [
    "# Q9.\n",
    "\n",
    "Self used within the class, Inheritance and init are important concepts of python OOP code. These concepts help us to create code that can be extended and easily maintainable. Inheritance is a great way to eliminate unnecessary repetitive code. A child class can inherit from the parent class partially or entirely. self, the instance of the object is passed by default to init to instatntiate and create instance variables."
   ]
  },
  {
   "cell_type": "code",
   "execution_count": null,
   "id": "48ba8ba2",
   "metadata": {},
   "outputs": [],
   "source": []
  }
 ],
 "metadata": {
  "kernelspec": {
   "display_name": "Python 3 (ipykernel)",
   "language": "python",
   "name": "python3"
  },
  "language_info": {
   "codemirror_mode": {
    "name": "ipython",
    "version": 3
   },
   "file_extension": ".py",
   "mimetype": "text/x-python",
   "name": "python",
   "nbconvert_exporter": "python",
   "pygments_lexer": "ipython3",
   "version": "3.9.7"
  }
 },
 "nbformat": 4,
 "nbformat_minor": 5
}
