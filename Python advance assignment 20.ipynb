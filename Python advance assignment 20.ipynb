{
 "cells": [
  {
   "cell_type": "markdown",
   "id": "7c7fafcd",
   "metadata": {},
   "source": [
    "# Q1.\n",
    "\n",
    "# Decimal class\n",
    "Provides support for fast correctly-rounded decimal floating point arithmetic.\n",
    "\n",
    "It gives the provison to represent the number in a representative way so that it is clearly undertood by the user.\n",
    "\n",
    "give you the exact arithmatic operation result like we use to do normally,\n",
    "\n",
    "Object exposes all required parts of the standard. When needed, we can change the rounding and signal handling. This includes an option to enforce exact arithmetic by using exceptions to block any inexact operations.\n",
    "\n",
    "Objects share many properties with the other built-in numeric types such as float and int. All of the usual math operations and special methods apply.\n",
    "\n",
    "It can be constructed from integers, strings, floats, or tuples. Construction from an integer or a float performs an exact conversion of the value of that integer or float.\n",
    "\n",
    "It is faster way to get precise value which we human work and have a smaller range than the float\n",
    "\n",
    "Decimal types are better suited for financial and monetary calculations\n",
    "\n",
    "The Decimal has a default precision of 28 places\n",
    "\n",
    "# Floating class\n",
    "It do not represent the exact precise value value.\n",
    "\n",
    "It gives the value close to the result.\n",
    "\n",
    "The float object exposes only a modest portion of its capabilities\n",
    "\n",
    "Some values cannot be exactly represented in a float data type. For instance, storing the 0.1 value in float (which is a binary floating point value) variable we get only an approximation of the value. Similarly, the 1/3 value cannot be represented exactly in decimal floating point type.\n",
    "\n",
    "Float types is best suited for scientific calculations\n",
    "\n",
    "The float has default precision of 18 places."
   ]
  },
  {
   "cell_type": "markdown",
   "id": "954c7a1a",
   "metadata": {},
   "source": [
    "# Q2.\n",
    "\n",
    "Though they are identical value wise, internal representation or internal state of these two values are different, as they have decimal values of different precisions."
   ]
  },
  {
   "cell_type": "code",
   "execution_count": 1,
   "id": "71a39e8d",
   "metadata": {},
   "outputs": [
    {
     "name": "stdout",
     "output_type": "stream",
     "text": [
      "1.200\n",
      "1.2\n"
     ]
    }
   ],
   "source": [
    "from decimal import Decimal\n",
    "print(Decimal('1.200'))\n",
    "print(Decimal('1.2'))"
   ]
  },
  {
   "cell_type": "markdown",
   "id": "f8af5e3e",
   "metadata": {},
   "source": [
    "# Q3."
   ]
  },
  {
   "cell_type": "code",
   "execution_count": 2,
   "id": "5f97ec88",
   "metadata": {},
   "outputs": [
    {
     "name": "stdout",
     "output_type": "stream",
     "text": [
      "True\n"
     ]
    }
   ],
   "source": [
    "#It returns that the values are stored are True.\n",
    "\n",
    "print(Decimal('1.200') == Decimal('1.2'))"
   ]
  },
  {
   "cell_type": "markdown",
   "id": "11296e3a",
   "metadata": {},
   "source": [
    "# Q4."
   ]
  },
  {
   "cell_type": "markdown",
   "id": "eac26949",
   "metadata": {},
   "source": [
    "Because while initilising with a string, this will give the exact value of the number available in the quotes ' '. While in case of floating point value, it first has to convert from float then using the round operation we will get the result with the desired precision."
   ]
  },
  {
   "cell_type": "markdown",
   "id": "a14946aa",
   "metadata": {},
   "source": [
    "# Q5.\n",
    "\n",
    "It is that much easy as we do normal calculation. How ever if we do not specify the number as a string then in order to get in decimal form we fisrt need to convert the value from float into decimal object and use the round method to get the precise value."
   ]
  },
  {
   "cell_type": "markdown",
   "id": "e8833773",
   "metadata": {},
   "source": [
    "# Q6.\n",
    "\n",
    "Arithmetic operfations like Adding,subtracting or multiplying a Decimal object by a floating-point value is generates an error.To do these operations, the floating point has to be converted to a Decimalobject—for example, converting from a floating-point value and then rounding. Else, arithmetic operations between the two types cause runtime errors."
   ]
  },
  {
   "cell_type": "code",
   "execution_count": 4,
   "id": "e3889ff0",
   "metadata": {},
   "outputs": [
    {
     "name": "stdout",
     "output_type": "stream",
     "text": [
      "Muliplication: 0.05999999999999999777955395075\n"
     ]
    },
    {
     "ename": "TypeError",
     "evalue": "unsupported operand type(s) for *: 'decimal.Decimal' and 'float'",
     "output_type": "error",
     "traceback": [
      "\u001b[1;31m---------------------------------------------------------------------------\u001b[0m",
      "\u001b[1;31mTypeError\u001b[0m                                 Traceback (most recent call last)",
      "\u001b[1;32m~\\AppData\\Local\\Temp/ipykernel_6216/1130561326.py\u001b[0m in \u001b[0;36m<module>\u001b[1;34m\u001b[0m\n\u001b[0;32m      7\u001b[0m \u001b[0mprint\u001b[0m\u001b[1;33m(\u001b[0m\u001b[1;34m\"Muliplication:\"\u001b[0m\u001b[1;33m,\u001b[0m\u001b[0mDecimal\u001b[0m\u001b[1;33m(\u001b[0m\u001b[1;34m'0.2'\u001b[0m\u001b[1;33m)\u001b[0m\u001b[1;33m*\u001b[0m\u001b[0mb\u001b[0m \u001b[1;33m)\u001b[0m\u001b[1;33m\u001b[0m\u001b[1;33m\u001b[0m\u001b[0m\n\u001b[0;32m      8\u001b[0m \u001b[1;33m\u001b[0m\u001b[0m\n\u001b[1;32m----> 9\u001b[1;33m \u001b[0mprint\u001b[0m\u001b[1;33m(\u001b[0m\u001b[0mDecimal\u001b[0m\u001b[1;33m(\u001b[0m\u001b[1;34m'0.2'\u001b[0m\u001b[1;33m)\u001b[0m\u001b[1;33m*\u001b[0m\u001b[0mval\u001b[0m\u001b[1;33m)\u001b[0m\u001b[1;33m\u001b[0m\u001b[1;33m\u001b[0m\u001b[0m\n\u001b[0m",
      "\u001b[1;31mTypeError\u001b[0m: unsupported operand type(s) for *: 'decimal.Decimal' and 'float'"
     ]
    }
   ],
   "source": [
    "import decimal\n",
    "from decimal import Decimal\n",
    "\n",
    "val=0.3\n",
    "\n",
    "b=Decimal(val)\n",
    "print(\"Muliplication:\",Decimal('0.2')*b )\n",
    "\n",
    "print(Decimal('0.2')*val)"
   ]
  },
  {
   "cell_type": "markdown",
   "id": "fe4a9380",
   "metadata": {},
   "source": [
    "# Q7."
   ]
  },
  {
   "cell_type": "code",
   "execution_count": 5,
   "id": "674d861b",
   "metadata": {},
   "outputs": [
    {
     "name": "stdout",
     "output_type": "stream",
     "text": [
      "0.30000000000000004\n"
     ]
    }
   ],
   "source": [
    "d=0.1+0.1+0.1\n",
    "print(d)"
   ]
  },
  {
   "cell_type": "code",
   "execution_count": 6,
   "id": "ac484f03",
   "metadata": {},
   "outputs": [
    {
     "name": "stdout",
     "output_type": "stream",
     "text": [
      "0.3000000000000000166533453694\n"
     ]
    }
   ],
   "source": [
    "d=Decimal(0.1)+Decimal(0.1)+Decimal(0.1)\n",
    "print(d)"
   ]
  },
  {
   "cell_type": "markdown",
   "id": "b58973ef",
   "metadata": {},
   "source": [
    "# Q8."
   ]
  },
  {
   "cell_type": "code",
   "execution_count": 8,
   "id": "f3d4807f",
   "metadata": {},
   "outputs": [
    {
     "name": "stdout",
     "output_type": "stream",
     "text": [
      "1.000000\n"
     ]
    }
   ],
   "source": [
    "d1=Decimal('1.000000')\n",
    "print(d1)"
   ]
  },
  {
   "cell_type": "code",
   "execution_count": 9,
   "id": "58db1c85",
   "metadata": {},
   "outputs": [
    {
     "name": "stdout",
     "output_type": "stream",
     "text": [
      "1.0\n"
     ]
    }
   ],
   "source": [
    "d2=1.000000\n",
    "print(d2)"
   ]
  },
  {
   "cell_type": "markdown",
   "id": "bd823be5",
   "metadata": {},
   "source": [
    "# Q9."
   ]
  },
  {
   "cell_type": "code",
   "execution_count": 10,
   "id": "1f5df4af",
   "metadata": {},
   "outputs": [
    {
     "name": "stdout",
     "output_type": "stream",
     "text": [
      "1/2\n"
     ]
    }
   ],
   "source": [
    "from fractions import Fraction\n",
    "f1=Fraction(1,2)\n",
    "print(f1)"
   ]
  },
  {
   "cell_type": "code",
   "execution_count": 11,
   "id": "d4c4320f",
   "metadata": {},
   "outputs": [
    {
     "name": "stdout",
     "output_type": "stream",
     "text": [
      "1/2\n"
     ]
    }
   ],
   "source": [
    "f2=Fraction(5,10)\n",
    "print(f2)"
   ]
  },
  {
   "cell_type": "markdown",
   "id": "d2fe58b8",
   "metadata": {},
   "source": [
    "Internal state of both the objects are not same. Though they give the same out output. It is because the fraction class will calculate for the further simplication till the result remains in fraction form."
   ]
  },
  {
   "cell_type": "markdown",
   "id": "6ca4696e",
   "metadata": {},
   "source": [
    "# Q10.\n",
    "\n",
    "Fraction class contains the pair of intgers values as numerator and denomenator and gives the result in the form of fraction. Since the values are belong to integer class an these class object are using by another object of fraction class. So here Containment is happening."
   ]
  },
  {
   "cell_type": "code",
   "execution_count": 12,
   "id": "aa842c66",
   "metadata": {},
   "outputs": [
    {
     "name": "stdout",
     "output_type": "stream",
     "text": [
      "10/7\n"
     ]
    }
   ],
   "source": [
    "n=10\n",
    "d=7\n",
    "f=Fraction(n,d)\n",
    "print(f)"
   ]
  },
  {
   "cell_type": "code",
   "execution_count": null,
   "id": "d7b087b1",
   "metadata": {},
   "outputs": [],
   "source": []
  }
 ],
 "metadata": {
  "kernelspec": {
   "display_name": "Python 3 (ipykernel)",
   "language": "python",
   "name": "python3"
  },
  "language_info": {
   "codemirror_mode": {
    "name": "ipython",
    "version": 3
   },
   "file_extension": ".py",
   "mimetype": "text/x-python",
   "name": "python",
   "nbconvert_exporter": "python",
   "pygments_lexer": "ipython3",
   "version": "3.9.7"
  }
 },
 "nbformat": 4,
 "nbformat_minor": 5
}
