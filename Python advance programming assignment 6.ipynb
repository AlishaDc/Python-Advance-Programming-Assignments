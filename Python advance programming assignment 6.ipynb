{
 "cells": [
  {
   "cell_type": "markdown",
   "id": "b2679183",
   "metadata": {},
   "source": [
    "# Q1."
   ]
  },
  {
   "cell_type": "code",
   "execution_count": 9,
   "id": "9886f457",
   "metadata": {},
   "outputs": [],
   "source": [
    "def find_the_difference(s,t):\n",
    "\n",
    "    smallStr = \"\"\n",
    "    largeStr = \"\"\n",
    "\n",
    "    if(len(s) > len(t)):\n",
    "        smallStr = t\n",
    "        largeStr = s\n",
    "    else:\n",
    "        smallStr = s\n",
    "        largeStr = t\n",
    "    smallStrCodeTotal = 0\n",
    "    largeStrCodeTotal = 0\n",
    "    i = 0\n",
    "\n",
    "    while(i < len(smallStr)):\n",
    "        smallStrCodeTotal += ord(smallStr[i])\n",
    "        largeStrCodeTotal += ord(largeStr[i])\n",
    "        i += 1\n",
    "\n",
    "    largeStrCodeTotal += ord(largeStr[i])\n",
    "\n",
    "    intChar = largeStrCodeTotal - smallStrCodeTotal\n",
    "    return chr(intChar)"
   ]
  },
  {
   "cell_type": "code",
   "execution_count": 10,
   "id": "9eb5310f",
   "metadata": {},
   "outputs": [
    {
     "data": {
      "text/plain": [
       "'e'"
      ]
     },
     "execution_count": 10,
     "metadata": {},
     "output_type": "execute_result"
    }
   ],
   "source": [
    "find_the_difference('abcd', 'abcde')"
   ]
  },
  {
   "cell_type": "code",
   "execution_count": 11,
   "id": "da3c87c2",
   "metadata": {},
   "outputs": [
    {
     "data": {
      "text/plain": [
       "'y'"
      ]
     },
     "execution_count": 11,
     "metadata": {},
     "output_type": "execute_result"
    }
   ],
   "source": [
    "find_the_difference('', 'y')"
   ]
  },
  {
   "cell_type": "code",
   "execution_count": 12,
   "id": "f14252f9",
   "metadata": {},
   "outputs": [
    {
     "data": {
      "text/plain": [
       "'a'"
      ]
     },
     "execution_count": 12,
     "metadata": {},
     "output_type": "execute_result"
    }
   ],
   "source": [
    "find_the_difference('ae', 'aea')"
   ]
  },
  {
   "cell_type": "markdown",
   "id": "ef9af3ea",
   "metadata": {},
   "source": [
    "# Q2."
   ]
  },
  {
   "cell_type": "code",
   "execution_count": 13,
   "id": "82b42eab",
   "metadata": {},
   "outputs": [],
   "source": [
    "def count_datatypes(*args):\n",
    "    intCnt = 0\n",
    "    strCnt = 0\n",
    "    boolCnt = 0\n",
    "    listCnt = 0\n",
    "    tupleCnt = 0\n",
    "    dictCnt = 0\n",
    "    count_list = [0,0,0,0,0,0]\n",
    "    for i in args:\n",
    "        if type(i) == int:\n",
    "            count_list[0] += 1\n",
    "        elif type(i) == str:\n",
    "            count_list[1] += 1\n",
    "        elif type(i) == bool:\n",
    "            count_list[2] += 1\n",
    "        elif type(i) == list:\n",
    "            count_list[3] += 1\n",
    "        elif type(i) == tuple:\n",
    "            count_list[4] += 1\n",
    "        elif type(i) == dict:\n",
    "            count_list[5] += 1\n",
    "\n",
    "    print(count_list)   "
   ]
  },
  {
   "cell_type": "code",
   "execution_count": 14,
   "id": "221a6c34",
   "metadata": {},
   "outputs": [
    {
     "name": "stdout",
     "output_type": "stream",
     "text": [
      "[2, 1, 1, 0, 0, 0]\n"
     ]
    }
   ],
   "source": [
    "count_datatypes(1, 45, 'Hi', False)"
   ]
  },
  {
   "cell_type": "code",
   "execution_count": 15,
   "id": "f7a4d58f",
   "metadata": {},
   "outputs": [
    {
     "name": "stdout",
     "output_type": "stream",
     "text": [
      "[3, 0, 0, 1, 1, 0]\n"
     ]
    }
   ],
   "source": [
    "count_datatypes([10, 20], ('t', 'Ok'), 2, 3, 1)"
   ]
  },
  {
   "cell_type": "code",
   "execution_count": 16,
   "id": "d39c3b83",
   "metadata": {},
   "outputs": [
    {
     "name": "stdout",
     "output_type": "stream",
     "text": [
      "[2, 2, 3, 1, 0, 2]\n"
     ]
    }
   ],
   "source": [
    "count_datatypes('Hello', 'Bye', True, True, False, {'1': 'One', '2': 'Two'}, [1, 3], {'Brayan': 18}, 25, 23)"
   ]
  },
  {
   "cell_type": "code",
   "execution_count": 17,
   "id": "f167e7f6",
   "metadata": {},
   "outputs": [
    {
     "name": "stdout",
     "output_type": "stream",
     "text": [
      "[2, 0, 1, 2, 2, 0]\n"
     ]
    }
   ],
   "source": [
    "count_datatypes(4, 21, ('ES', 'EN'), ('a', 'b'), False, [1, 2, 3], [4, 5, 6])"
   ]
  },
  {
   "cell_type": "markdown",
   "id": "652ac259",
   "metadata": {},
   "source": [
    "# Q3"
   ]
  },
  {
   "cell_type": "code",
   "execution_count": 18,
   "id": "61128d6d",
   "metadata": {},
   "outputs": [],
   "source": [
    "def fib_str(n,string):\n",
    "    a = string[0]\n",
    "    b = string[1]\n",
    "    for i in range(n):\n",
    "        print(str(a),end=',')\n",
    "        a,b=b,a+b"
   ]
  },
  {
   "cell_type": "code",
   "execution_count": 19,
   "id": "fd8387fd",
   "metadata": {},
   "outputs": [
    {
     "name": "stdout",
     "output_type": "stream",
     "text": [
      "j,h,jh,"
     ]
    }
   ],
   "source": [
    "fib_str(3,['j','h'])"
   ]
  },
  {
   "cell_type": "code",
   "execution_count": 20,
   "id": "c9a0442a",
   "metadata": {},
   "outputs": [
    {
     "name": "stdout",
     "output_type": "stream",
     "text": [
      "e,a,ea,aea,eaaea,"
     ]
    }
   ],
   "source": [
    "fib_str(5, ['e', 'a'])"
   ]
  },
  {
   "cell_type": "code",
   "execution_count": 21,
   "id": "b2b07db0",
   "metadata": {},
   "outputs": [
    {
     "name": "stdout",
     "output_type": "stream",
     "text": [
      "n,k,nk,knk,nkknk,knknkknk,"
     ]
    }
   ],
   "source": [
    "fib_str(6, ['n', 'k'])"
   ]
  },
  {
   "cell_type": "markdown",
   "id": "7f737152",
   "metadata": {},
   "source": [
    "# Q4."
   ]
  },
  {
   "cell_type": "code",
   "execution_count": 22,
   "id": "e5455c71",
   "metadata": {},
   "outputs": [],
   "source": [
    "def ones_threes_nines(num):\n",
    "    dict = {'nines':0,'threes' : 0,'ones':0 }\n",
    "    strDict = ''\n",
    "    while(num > 0):\n",
    "        if num // 9 > 0:\n",
    "            dict['nines'] = num // 9\n",
    "            num = num % 9\n",
    "        elif num // 3 > 0:\n",
    "            dict['threes'] = num // 3\n",
    "            num = num % 3\n",
    "        else:\n",
    "            dict['ones'] = num // 1\n",
    "            num = num % 1\n",
    "    for k,v in dict.items():\n",
    "        strDict = strDict + k + \":\" + str(v) + \" \"\n",
    "    return ', '.join(strDict.strip().split())"
   ]
  },
  {
   "cell_type": "code",
   "execution_count": 23,
   "id": "d2151d39",
   "metadata": {},
   "outputs": [
    {
     "data": {
      "text/plain": [
       "'nines:1, threes:0, ones:1'"
      ]
     },
     "execution_count": 23,
     "metadata": {},
     "output_type": "execute_result"
    }
   ],
   "source": [
    "ones_threes_nines(10) "
   ]
  },
  {
   "cell_type": "code",
   "execution_count": 24,
   "id": "9d3f8fbf",
   "metadata": {},
   "outputs": [
    {
     "data": {
      "text/plain": [
       "'nines:1, threes:2, ones:0'"
      ]
     },
     "execution_count": 24,
     "metadata": {},
     "output_type": "execute_result"
    }
   ],
   "source": [
    "ones_threes_nines(15)"
   ]
  },
  {
   "cell_type": "code",
   "execution_count": 25,
   "id": "599e4e4c",
   "metadata": {},
   "outputs": [
    {
     "data": {
      "text/plain": [
       "'nines:2, threes:1, ones:1'"
      ]
     },
     "execution_count": 25,
     "metadata": {},
     "output_type": "execute_result"
    }
   ],
   "source": [
    "ones_threes_nines(22)"
   ]
  },
  {
   "cell_type": "markdown",
   "id": "adc256a5",
   "metadata": {},
   "source": [
    "# Q4."
   ]
  },
  {
   "cell_type": "code",
   "execution_count": 26,
   "id": "f1c4e220",
   "metadata": {},
   "outputs": [],
   "source": [
    "def fib(num):\n",
    "    a=0\n",
    "    b=1\n",
    "    for i in range(num):\n",
    "        a,b=b,a+b\n",
    "    print(a)"
   ]
  },
  {
   "cell_type": "code",
   "execution_count": 27,
   "id": "dc1713bc",
   "metadata": {},
   "outputs": [
    {
     "name": "stdout",
     "output_type": "stream",
     "text": [
      "8\n"
     ]
    }
   ],
   "source": [
    "fib(6)"
   ]
  },
  {
   "cell_type": "code",
   "execution_count": 28,
   "id": "35861925",
   "metadata": {},
   "outputs": [
    {
     "name": "stdout",
     "output_type": "stream",
     "text": [
      "1\n"
     ]
    }
   ],
   "source": [
    "fib(1)"
   ]
  },
  {
   "cell_type": "code",
   "execution_count": 29,
   "id": "4440187f",
   "metadata": {},
   "outputs": [
    {
     "name": "stdout",
     "output_type": "stream",
     "text": [
      "1\n"
     ]
    }
   ],
   "source": [
    "fib(2)"
   ]
  },
  {
   "cell_type": "code",
   "execution_count": null,
   "id": "d59db20b",
   "metadata": {},
   "outputs": [],
   "source": []
  }
 ],
 "metadata": {
  "kernelspec": {
   "display_name": "Python 3 (ipykernel)",
   "language": "python",
   "name": "python3"
  },
  "language_info": {
   "codemirror_mode": {
    "name": "ipython",
    "version": 3
   },
   "file_extension": ".py",
   "mimetype": "text/x-python",
   "name": "python",
   "nbconvert_exporter": "python",
   "pygments_lexer": "ipython3",
   "version": "3.9.7"
  }
 },
 "nbformat": 4,
 "nbformat_minor": 5
}
