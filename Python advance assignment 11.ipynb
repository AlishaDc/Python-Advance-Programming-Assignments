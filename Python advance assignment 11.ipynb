{
 "cells": [
  {
   "cell_type": "markdown",
   "id": "cf1d7bb5",
   "metadata": {},
   "source": [
    "# Q1.\n",
    "\n",
    "In object-oriented programming, a metaclass is a class whose instances are classes. Just as an ordinary class defines the behavior of certain objects, a metaclass defines the behavior of certain classes and their instances. A class is itself an instance of a metaclass."
   ]
  },
  {
   "cell_type": "markdown",
   "id": "2b4f5b4c",
   "metadata": {},
   "source": [
    "# Q2.\n",
    "\n",
    "In object-oriented programming, a metaclass is a class whose instances are classes. Just as an ordinary class defines the behavior of certain objects, a metaclass defines the behavior of certain classes and their instances. Not all object-oriented programming languages support metaclasses."
   ]
  },
  {
   "cell_type": "markdown",
   "id": "73a11137",
   "metadata": {},
   "source": [
    "# Q3."
   ]
  },
  {
   "cell_type": "code",
   "execution_count": 1,
   "id": "7a48ab80",
   "metadata": {},
   "outputs": [
    {
     "data": {
      "text/plain": [
       "2914"
      ]
     },
     "execution_count": 1,
     "metadata": {},
     "output_type": "execute_result"
    }
   ],
   "source": [
    "class Meta2(type):\n",
    "    \n",
    "    def __init__(cls, name, bases, dct):\n",
    "        cls.variable = 2914\n",
    "\n",
    "class A(metaclass=Meta2):\n",
    "    pass\n",
    "\n",
    "A.variable"
   ]
  },
  {
   "cell_type": "markdown",
   "id": "482318cc",
   "metadata": {},
   "source": [
    "# Q4.\n",
    "\n",
    "We can use both class decorator and metaclasses to manage class instances by inserting a wrapper object to catch the instance creation calls. Decorators may rebind the class name to a cllabale run on instance creation that retains the original class object. Metaclasses can also do the same but they might have some disadvantage as they need to create a new object for that.\n"
   ]
  },
  {
   "cell_type": "code",
   "execution_count": null,
   "id": "0e9e652a",
   "metadata": {},
   "outputs": [],
   "source": []
  }
 ],
 "metadata": {
  "kernelspec": {
   "display_name": "Python 3 (ipykernel)",
   "language": "python",
   "name": "python3"
  },
  "language_info": {
   "codemirror_mode": {
    "name": "ipython",
    "version": 3
   },
   "file_extension": ".py",
   "mimetype": "text/x-python",
   "name": "python",
   "nbconvert_exporter": "python",
   "pygments_lexer": "ipython3",
   "version": "3.9.7"
  }
 },
 "nbformat": 4,
 "nbformat_minor": 5
}
