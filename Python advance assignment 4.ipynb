{
 "cells": [
  {
   "cell_type": "markdown",
   "id": "e0ee91ce",
   "metadata": {},
   "source": [
    "# Q1.\n",
    "\n",
    " iter () and next () are the two operator overloading methods that can be used for iteration in the class."
   ]
  },
  {
   "cell_type": "markdown",
   "id": "48c52ca2",
   "metadata": {},
   "source": [
    "# Q2.\n",
    "\n",
    "str is used to print the string representation of an object in such a way that it is readable to the user. Only informatic part. We can also say that only inofficial string representation of the object is taken care by using this method. We cannot reuse it to build the object again for the respective class.\n",
    "\n",
    "repr is used to print the official information about the object. Meaning, the representation of object in a string format in such a way that it is understand by the machine only, however user can also understand but its representation is not that much readable. It can be reuse for constructing the object again of respective class."
   ]
  },
  {
   "cell_type": "markdown",
   "id": "483208b5",
   "metadata": {},
   "source": [
    "# Q3.\n",
    "\n",
    "The getitem documentation says: \"Called to implement evaluation of self[key]. For sequence types, the accepted keys should be integers and slice objects.\" (my emphasys). And for setitem: \" Same note as for getitem()\", which I take to mean that key can also be a slice."
   ]
  },
  {
   "cell_type": "markdown",
   "id": "d615b313",
   "metadata": {},
   "source": [
    "# Q4.\n",
    "\n",
    "It is possible that we can add something in a function in additional manner. We just need to pass the value inside the function."
   ]
  },
  {
   "cell_type": "markdown",
   "id": "54881997",
   "metadata": {},
   "source": [
    "# Q5.\n",
    "\n",
    "The operator overloading in Python means provide extended meaning beyond their predefined operational meaning. Such as, we use the \"+\" operator for adding two integers as well as joining two strings or merging two lists. We can achieve this as the \"+\" operator is overloaded by the \"int\" class and \"str\" class."
   ]
  },
  {
   "cell_type": "code",
   "execution_count": null,
   "id": "c5aa0e9b",
   "metadata": {},
   "outputs": [],
   "source": []
  }
 ],
 "metadata": {
  "kernelspec": {
   "display_name": "Python 3 (ipykernel)",
   "language": "python",
   "name": "python3"
  },
  "language_info": {
   "codemirror_mode": {
    "name": "ipython",
    "version": 3
   },
   "file_extension": ".py",
   "mimetype": "text/x-python",
   "name": "python",
   "nbconvert_exporter": "python",
   "pygments_lexer": "ipython3",
   "version": "3.9.7"
  }
 },
 "nbformat": 4,
 "nbformat_minor": 5
}
