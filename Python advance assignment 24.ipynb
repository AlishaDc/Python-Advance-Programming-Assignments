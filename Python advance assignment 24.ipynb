{
 "cells": [
  {
   "cell_type": "markdown",
   "id": "947edadd",
   "metadata": {},
   "source": [
    "# Q1.\n",
    "\n",
    "Yes we can use more than one import statement to import the same module more than once.\n",
    "\n",
    "This is com einto action when support we want to import some other function or class from the base class of any module for example.\n",
    "\n",
    "from sklearn.preprocessing import LabelEncoder\n",
    "\n",
    "from sklearn.linear_model import LinearRegression"
   ]
  },
  {
   "cell_type": "markdown",
   "id": "f49612a1",
   "metadata": {},
   "source": [
    "# Q2.\n",
    "\n",
    "name : It returns the name of the module\n",
    "\n",
    "doc : It denotes the documentation string line written in a module code.\n",
    "\n",
    "file : It holds the name and path of the module file from which it is loaded\n",
    "\n",
    "dict : It return a dictionary object of module attributes, functions and other definitions and their respective values."
   ]
  },
  {
   "cell_type": "markdown",
   "id": "47573423",
   "metadata": {},
   "source": [
    "# Q3.\n",
    "\n",
    "Circular importing means importing the two modules in each other. If suppose we are wokring in MOD1.py file and it is importing some function say F2() from some other module say MOD2.PY file or we can do vice-versa. What will happen is: This will give an import error.\n",
    "\n",
    "This is because when we import F2() function from module MOD2.py, then this will execute MOD2.py file. And in MOD2.py file there is an another statement of importing MOD1.py module. This will result in endless loop. To avoid this error just do one thing-\n",
    "\n",
    "We can use if name == 'main'\n",
    "\n",
    "In the function, you can't directly refer to the function in the program. The addition of this sentence avoids the endless loop of the program\n"
   ]
  },
  {
   "cell_type": "markdown",
   "id": "c80401e1",
   "metadata": {},
   "source": [
    "# Q4.\n",
    "\n",
    "It specifies all the modules present in the particular library and those can be called when we use import *"
   ]
  },
  {
   "cell_type": "markdown",
   "id": "39c749d9",
   "metadata": {},
   "source": [
    "# Q5.\n",
    "\n",
    "During the time of execution of the code if we want to refer the module in which we are working on then we uses name attribute. In that case it will return the module in which we are working on. Suppose if that moudle is being imported from some other module then name will have the name of that moudle from where the current module has been imported. The current module in which we are working is refer to the string ' main '"
   ]
  },
  {
   "cell_type": "code",
   "execution_count": null,
   "id": "68092977",
   "metadata": {},
   "outputs": [],
   "source": []
  }
 ],
 "metadata": {
  "kernelspec": {
   "display_name": "Python 3 (ipykernel)",
   "language": "python",
   "name": "python3"
  },
  "language_info": {
   "codemirror_mode": {
    "name": "ipython",
    "version": 3
   },
   "file_extension": ".py",
   "mimetype": "text/x-python",
   "name": "python",
   "nbconvert_exporter": "python",
   "pygments_lexer": "ipython3",
   "version": "3.9.7"
  }
 },
 "nbformat": 4,
 "nbformat_minor": 5
}
