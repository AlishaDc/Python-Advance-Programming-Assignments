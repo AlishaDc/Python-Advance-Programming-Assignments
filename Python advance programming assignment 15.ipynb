{
 "cells": [
  {
   "cell_type": "markdown",
   "id": "80e92961",
   "metadata": {},
   "source": [
    "# Q1."
   ]
  },
  {
   "cell_type": "code",
   "execution_count": 1,
   "id": "4b9a5bb8",
   "metadata": {},
   "outputs": [],
   "source": [
    "def anagram(s,l):\n",
    "    length = 0\n",
    "    s1=''\n",
    "    for i in l:\n",
    "        length = length+len(i)\n",
    "        if i:\n",
    "            s1 +=i\n",
    "    s1=s1.lower()\n",
    "\n",
    "    s = s.replace(\" \", \"\")\n",
    "    s=s.lower()\n",
    "    if sorted(list(s)) == sorted(list(s1)):\n",
    "        return True\n",
    "    else:\n",
    "        return False"
   ]
  },
  {
   "cell_type": "code",
   "execution_count": 2,
   "id": "6e84faaf",
   "metadata": {},
   "outputs": [
    {
     "data": {
      "text/plain": [
       "True"
      ]
     },
     "execution_count": 2,
     "metadata": {},
     "output_type": "execute_result"
    }
   ],
   "source": [
    "anagram(\"Justin Bieber\", [\"injures\", \"ebb\", \"it\"])"
   ]
  },
  {
   "cell_type": "code",
   "execution_count": 3,
   "id": "def656ea",
   "metadata": {},
   "outputs": [
    {
     "data": {
      "text/plain": [
       "True"
      ]
     },
     "execution_count": 3,
     "metadata": {},
     "output_type": "execute_result"
    }
   ],
   "source": [
    "anagram(\"Natalie Portman\", [\"ornamental\", \"pita\"])"
   ]
  },
  {
   "cell_type": "code",
   "execution_count": 4,
   "id": "4a3d1987",
   "metadata": {},
   "outputs": [
    {
     "data": {
      "text/plain": [
       "False"
      ]
     },
     "execution_count": 4,
     "metadata": {},
     "output_type": "execute_result"
    }
   ],
   "source": [
    "anagram(\"Chris Pratt\", [\"chirps\", \"rat\"])"
   ]
  },
  {
   "cell_type": "code",
   "execution_count": 5,
   "id": "b58839f2",
   "metadata": {},
   "outputs": [
    {
     "data": {
      "text/plain": [
       "False"
      ]
     },
     "execution_count": 5,
     "metadata": {},
     "output_type": "execute_result"
    }
   ],
   "source": [
    "anagram(\"Jeff Goldblum\", [\"jog\", \"meld\", \"bluffs\"])"
   ]
  },
  {
   "cell_type": "markdown",
   "id": "63dc0997",
   "metadata": {},
   "source": [
    "# Q2."
   ]
  },
  {
   "cell_type": "code",
   "execution_count": 6,
   "id": "2c43cf78",
   "metadata": {},
   "outputs": [],
   "source": [
    "def leaderboards(l):\n",
    "    p=l\n",
    "    t=[]\n",
    "    j=0\n",
    "    for i in p:\n",
    "        x=(2*i[\"reputation\"]) + i[\"score\"]\n",
    "        t.append(x)\n",
    "        i.update(trueScore = x) \n",
    "    p = sorted(p, key = lambda i: i['trueScore'],reverse=True)\n",
    "    t= sorted(t,reverse=True)\n",
    "    for i in p:\n",
    "        i.pop('trueScore')\n",
    "        print(\"{0} , #trueScore = {1}\".format(p[j], t[j]))\n",
    "        j+=1"
   ]
  },
  {
   "cell_type": "code",
   "execution_count": 7,
   "id": "e8222fd3",
   "metadata": {},
   "outputs": [
    {
     "name": "stdout",
     "output_type": "stream",
     "text": [
      "{'name': 'c', 'score': 115, 'reputation': 30} , #trueScore = 175\n",
      "{'name': 'b', 'score': 90, 'reputation': 40} , #trueScore = 170\n",
      "{'name': 'a', 'score': 100, 'reputation': 20} , #trueScore = 140\n"
     ]
    }
   ],
   "source": [
    "leaderboards([\n",
    "  { \"name\": \"a\", \"score\": 100, \"reputation\": 20 },\n",
    "  { \"name\": \"b\", \"score\": 90, \"reputation\": 40 },\n",
    "  { \"name\": \"c\", \"score\": 115, \"reputation\": 30 },\n",
    "])"
   ]
  },
  {
   "cell_type": "markdown",
   "id": "dbbb64d6",
   "metadata": {},
   "source": [
    "# Q3."
   ]
  },
  {
   "cell_type": "code",
   "execution_count": 8,
   "id": "18239924",
   "metadata": {},
   "outputs": [],
   "source": [
    "def hangman(s,l):\n",
    "    Temp = \"\"\n",
    "    for letter in s:\n",
    "        if letter in l:\n",
    "            Temp += letter\n",
    "        else:\n",
    "            Temp += \"-\"\n",
    "    return Temp"
   ]
  },
  {
   "cell_type": "code",
   "execution_count": 9,
   "id": "67557e40",
   "metadata": {},
   "outputs": [
    {
     "data": {
      "text/plain": [
       "'-e---o--e-'"
      ]
     },
     "execution_count": 9,
     "metadata": {},
     "output_type": "execute_result"
    }
   ],
   "source": [
    "hangman(\"helicopter\", [\"o\", \"e\", \"s\"])"
   ]
  },
  {
   "cell_type": "code",
   "execution_count": 10,
   "id": "f627367e",
   "metadata": {},
   "outputs": [
    {
     "data": {
      "text/plain": [
       "'tree'"
      ]
     },
     "execution_count": 10,
     "metadata": {},
     "output_type": "execute_result"
    }
   ],
   "source": [
    "hangman(\"tree\", [\"r\", \"t\", \"e\"])"
   ]
  },
  {
   "cell_type": "code",
   "execution_count": 11,
   "id": "e8f40081",
   "metadata": {},
   "outputs": [
    {
     "data": {
      "text/plain": [
       "'-----n-r----'"
      ]
     },
     "execution_count": 11,
     "metadata": {},
     "output_type": "execute_result"
    }
   ],
   "source": [
    "hangman(\"Python rules\", [\"a\", \"n\", \"p\", \"r\", \"z\"])"
   ]
  },
  {
   "cell_type": "code",
   "execution_count": 12,
   "id": "2fae63b1",
   "metadata": {},
   "outputs": [
    {
     "data": {
      "text/plain": [
       "'-e---a--e-y--a----y---y-'"
      ]
     },
     "execution_count": 12,
     "metadata": {},
     "output_type": "execute_result"
    }
   ],
   "source": [
    "hangman(\"He's a very naughty boy!\", [\"e\", \"a\", \"y\"])"
   ]
  },
  {
   "cell_type": "markdown",
   "id": "741d942a",
   "metadata": {},
   "source": [
    "# Q4."
   ]
  },
  {
   "cell_type": "code",
   "execution_count": 13,
   "id": "fbaa5175",
   "metadata": {},
   "outputs": [],
   "source": [
    "def max_collatz(n):\n",
    "    l=[]\n",
    "    l.append(n)\n",
    "    while(n!= 1):\n",
    "        if n%2 ==0:\n",
    "            n=int(n/2)\n",
    "        else:\n",
    "            n= (3*n)+1\n",
    "        l.append(n)\n",
    "#     print(max(l))\n",
    "    print(\"# Collatz sequence:\",l)\n",
    "    return max(l)"
   ]
  },
  {
   "cell_type": "code",
   "execution_count": 14,
   "id": "f71450a9",
   "metadata": {},
   "outputs": [
    {
     "name": "stdout",
     "output_type": "stream",
     "text": [
      "# Collatz sequence: [10, 5, 16, 8, 4, 2, 1]\n"
     ]
    },
    {
     "data": {
      "text/plain": [
       "16"
      ]
     },
     "execution_count": 14,
     "metadata": {},
     "output_type": "execute_result"
    }
   ],
   "source": [
    "max_collatz(10)"
   ]
  },
  {
   "cell_type": "code",
   "execution_count": 15,
   "id": "410e4a5a",
   "metadata": {},
   "outputs": [
    {
     "name": "stdout",
     "output_type": "stream",
     "text": [
      "# Collatz sequence: [32, 16, 8, 4, 2, 1]\n"
     ]
    },
    {
     "data": {
      "text/plain": [
       "32"
      ]
     },
     "execution_count": 15,
     "metadata": {},
     "output_type": "execute_result"
    }
   ],
   "source": [
    "max_collatz(32)"
   ]
  },
  {
   "cell_type": "code",
   "execution_count": 16,
   "id": "59a4c40a",
   "metadata": {},
   "outputs": [
    {
     "name": "stdout",
     "output_type": "stream",
     "text": [
      "# Collatz sequence: [85, 256, 128, 64, 32, 16, 8, 4, 2, 1]\n"
     ]
    },
    {
     "data": {
      "text/plain": [
       "256"
      ]
     },
     "execution_count": 16,
     "metadata": {},
     "output_type": "execute_result"
    }
   ],
   "source": [
    "max_collatz(85)"
   ]
  },
  {
   "cell_type": "markdown",
   "id": "c35d8f42",
   "metadata": {},
   "source": [
    "# Q5."
   ]
  },
  {
   "cell_type": "code",
   "execution_count": 17,
   "id": "949cc612",
   "metadata": {},
   "outputs": [],
   "source": [
    "def digit_sort(l):\n",
    "    l=sorted(l,reverse = True)\n",
    "    l = [str(i) for i in l]\n",
    "    i= len(l)\n",
    "    for k in range (i):\n",
    "        for j in range(0,i-1):\n",
    "            if len(l[j])==len(l[j+1]):\n",
    "                if l[j]>l[j+1]:\n",
    "                    temp = l[j]\n",
    "                    l[j] =l[j+1]\n",
    "                    l[j+1]=temp\n",
    "    return l"
   ]
  },
  {
   "cell_type": "code",
   "execution_count": 18,
   "id": "d660386d",
   "metadata": {},
   "outputs": [
    {
     "data": {
      "text/plain": [
       "['101', '23', '77', '5', '7']"
      ]
     },
     "execution_count": 18,
     "metadata": {},
     "output_type": "execute_result"
    }
   ],
   "source": [
    "digit_sort([77, 23, 5, 7, 101])"
   ]
  },
  {
   "cell_type": "code",
   "execution_count": 19,
   "id": "b323f8d5",
   "metadata": {},
   "outputs": [
    {
     "data": {
      "text/plain": [
       "['444', '563', '789', '1', '2', '5', '9']"
      ]
     },
     "execution_count": 19,
     "metadata": {},
     "output_type": "execute_result"
    }
   ],
   "source": [
    "digit_sort([1, 5, 9, 2, 789, 563, 444])"
   ]
  },
  {
   "cell_type": "code",
   "execution_count": 20,
   "id": "971b3825",
   "metadata": {},
   "outputs": [
    {
     "data": {
      "text/plain": [
       "['53219', '3772', '564', '32', '1']"
      ]
     },
     "execution_count": 20,
     "metadata": {},
     "output_type": "execute_result"
    }
   ],
   "source": [
    "digit_sort([53219, 3772, 564, 32, 1])"
   ]
  },
  {
   "cell_type": "code",
   "execution_count": null,
   "id": "e0ab3347",
   "metadata": {},
   "outputs": [],
   "source": []
  }
 ],
 "metadata": {
  "kernelspec": {
   "display_name": "Python 3 (ipykernel)",
   "language": "python",
   "name": "python3"
  },
  "language_info": {
   "codemirror_mode": {
    "name": "ipython",
    "version": 3
   },
   "file_extension": ".py",
   "mimetype": "text/x-python",
   "name": "python",
   "nbconvert_exporter": "python",
   "pygments_lexer": "ipython3",
   "version": "3.9.7"
  }
 },
 "nbformat": 4,
 "nbformat_minor": 5
}
