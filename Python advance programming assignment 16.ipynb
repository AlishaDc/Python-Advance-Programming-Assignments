{
 "cells": [
  {
   "cell_type": "markdown",
   "id": "a3198113",
   "metadata": {},
   "source": [
    "# Q1."
   ]
  },
  {
   "cell_type": "code",
   "execution_count": 1,
   "id": "e800dcf4",
   "metadata": {},
   "outputs": [],
   "source": [
    "def valid_rondo(s):\n",
    "    letter = ord(\"A\")\n",
    "    next_letter = ord(\"B\")\n",
    "    l= len(s)\n",
    "    if l<2:\n",
    "        return False\n",
    "    elif s[0] and s[l-1] != \"A\":\n",
    "        return False\n",
    "    else:\n",
    "        for i in range(0,l-1,2):\n",
    "#             print(s[i])\n",
    "            if s[i]!= \"A\":\n",
    "                return False\n",
    "            else:\n",
    "                for i in range(1,l-1,2):\n",
    "#                     print(s[i],next_letter)\n",
    "                    if ord(s[i]) != next_letter:\n",
    "                        return False\n",
    "                    else:\n",
    "                        next_letter += 1\n",
    "                return True"
   ]
  },
  {
   "cell_type": "code",
   "execution_count": 2,
   "id": "cf282383",
   "metadata": {},
   "outputs": [
    {
     "data": {
      "text/plain": [
       "True"
      ]
     },
     "execution_count": 2,
     "metadata": {},
     "output_type": "execute_result"
    }
   ],
   "source": [
    "valid_rondo(\"ABACADAEAFAGAHAIAJA\") "
   ]
  },
  {
   "cell_type": "code",
   "execution_count": 3,
   "id": "2c4a0df0",
   "metadata": {},
   "outputs": [
    {
     "data": {
      "text/plain": [
       "False"
      ]
     },
     "execution_count": 3,
     "metadata": {},
     "output_type": "execute_result"
    }
   ],
   "source": [
    "valid_rondo(\"ACAC\")"
   ]
  },
  {
   "cell_type": "code",
   "execution_count": 4,
   "id": "173247aa",
   "metadata": {},
   "outputs": [
    {
     "data": {
      "text/plain": [
       "False"
      ]
     },
     "execution_count": 4,
     "metadata": {},
     "output_type": "execute_result"
    }
   ],
   "source": [
    "valid_rondo(\"ABBACCA\") "
   ]
  },
  {
   "cell_type": "code",
   "execution_count": 5,
   "id": "fbfe1537",
   "metadata": {},
   "outputs": [
    {
     "data": {
      "text/plain": [
       "False"
      ]
     },
     "execution_count": 5,
     "metadata": {},
     "output_type": "execute_result"
    }
   ],
   "source": [
    "valid_rondo(\"ACAC\") "
   ]
  },
  {
   "cell_type": "code",
   "execution_count": 6,
   "id": "0b6b227f",
   "metadata": {},
   "outputs": [
    {
     "data": {
      "text/plain": [
       "False"
      ]
     },
     "execution_count": 6,
     "metadata": {},
     "output_type": "execute_result"
    }
   ],
   "source": [
    "valid_rondo(\"A\")"
   ]
  },
  {
   "cell_type": "markdown",
   "id": "d883a376",
   "metadata": {},
   "source": [
    "# Q2."
   ]
  },
  {
   "cell_type": "code",
   "execution_count": 7,
   "id": "36f96b6a",
   "metadata": {},
   "outputs": [],
   "source": [
    "def sentence_searcher(txt,s):\n",
    "    t = txt.split(\".\")\n",
    "    s=s.lower()\n",
    "    for i in t:\n",
    "        x=i.lower()\n",
    "        if s in x:\n",
    "#             print(i)\n",
    "            return i\n",
    "    return \"\"    \n",
    "    \n",
    "txt = \"I have a cat. I have a mat. Things are going swell.\" "
   ]
  },
  {
   "cell_type": "code",
   "execution_count": 8,
   "id": "49bd4cb2",
   "metadata": {},
   "outputs": [
    {
     "data": {
      "text/plain": [
       "'I have a cat'"
      ]
     },
     "execution_count": 8,
     "metadata": {},
     "output_type": "execute_result"
    }
   ],
   "source": [
    "sentence_searcher(txt, \"have\")"
   ]
  },
  {
   "cell_type": "code",
   "execution_count": 9,
   "id": "a57ce051",
   "metadata": {},
   "outputs": [
    {
     "data": {
      "text/plain": [
       "' I have a mat'"
      ]
     },
     "execution_count": 9,
     "metadata": {},
     "output_type": "execute_result"
    }
   ],
   "source": [
    "sentence_searcher(txt, \"MAT\")"
   ]
  },
  {
   "cell_type": "code",
   "execution_count": 10,
   "id": "a8423b99",
   "metadata": {},
   "outputs": [
    {
     "data": {
      "text/plain": [
       "' Things are going swell'"
      ]
     },
     "execution_count": 10,
     "metadata": {},
     "output_type": "execute_result"
    }
   ],
   "source": [
    "sentence_searcher(txt, \"things\")"
   ]
  },
  {
   "cell_type": "code",
   "execution_count": 11,
   "id": "1da74a99",
   "metadata": {},
   "outputs": [
    {
     "data": {
      "text/plain": [
       "''"
      ]
     },
     "execution_count": 11,
     "metadata": {},
     "output_type": "execute_result"
    }
   ],
   "source": [
    "sentence_searcher(txt, \"flat\")"
   ]
  },
  {
   "cell_type": "markdown",
   "id": "10971970",
   "metadata": {},
   "source": [
    "# Q3."
   ]
  },
  {
   "cell_type": "code",
   "execution_count": 12,
   "id": "58f4b706",
   "metadata": {},
   "outputs": [],
   "source": [
    "def sum_round(n):\n",
    "    n=str(n)\n",
    "    n=n[::-1]\n",
    "    z = \"\"\n",
    "    for i in range(len(n)):\n",
    "        x = int(n[i])*(10**i) \n",
    "        if x != 0:\n",
    "            z += str(x)\n",
    "            z += \" \"\n",
    "    return z "
   ]
  },
  {
   "cell_type": "code",
   "execution_count": 13,
   "id": "21f60b6a",
   "metadata": {},
   "outputs": [
    {
     "data": {
      "text/plain": [
       "'1 100 '"
      ]
     },
     "execution_count": 13,
     "metadata": {},
     "output_type": "execute_result"
    }
   ],
   "source": [
    "sum_round(101)"
   ]
  },
  {
   "cell_type": "code",
   "execution_count": 14,
   "id": "93bfc633",
   "metadata": {},
   "outputs": [
    {
     "data": {
      "text/plain": [
       "'4 30 200 1000 '"
      ]
     },
     "execution_count": 14,
     "metadata": {},
     "output_type": "execute_result"
    }
   ],
   "source": [
    "sum_round(1234)"
   ]
  },
  {
   "cell_type": "code",
   "execution_count": 15,
   "id": "5d44c86b",
   "metadata": {},
   "outputs": [
    {
     "data": {
      "text/plain": [
       "'10 200 4000 50000 '"
      ]
     },
     "execution_count": 15,
     "metadata": {},
     "output_type": "execute_result"
    }
   ],
   "source": [
    "sum_round(54210)"
   ]
  },
  {
   "cell_type": "markdown",
   "id": "067462d9",
   "metadata": {},
   "source": [
    "# Q4."
   ]
  },
  {
   "cell_type": "code",
   "execution_count": 16,
   "id": "b8c956a7",
   "metadata": {},
   "outputs": [],
   "source": [
    "def multiplication_table(n):   \n",
    "    t = 1\n",
    "    tab = []\n",
    "    tmp = []\n",
    "    while t <= n:\n",
    "        tmp = []\n",
    "        for i in range(1,n+1):\n",
    "            tmp.append(i*t)\n",
    "        tab.append(tmp)\n",
    "        t = t + 1\n",
    "    return tab   "
   ]
  },
  {
   "cell_type": "code",
   "execution_count": 17,
   "id": "5361e255",
   "metadata": {},
   "outputs": [
    {
     "data": {
      "text/plain": [
       "[[1]]"
      ]
     },
     "execution_count": 17,
     "metadata": {},
     "output_type": "execute_result"
    }
   ],
   "source": [
    "multiplication_table(1)"
   ]
  },
  {
   "cell_type": "code",
   "execution_count": 18,
   "id": "251889ec",
   "metadata": {},
   "outputs": [
    {
     "data": {
      "text/plain": [
       "[[1, 2, 3], [2, 4, 6], [3, 6, 9]]"
      ]
     },
     "execution_count": 18,
     "metadata": {},
     "output_type": "execute_result"
    }
   ],
   "source": [
    "multiplication_table(3)"
   ]
  },
  {
   "cell_type": "code",
   "execution_count": 19,
   "id": "cb101f6c",
   "metadata": {},
   "outputs": [
    {
     "data": {
      "text/plain": [
       "[[1, 2, 3, 4, 5],\n",
       " [2, 4, 6, 8, 10],\n",
       " [3, 6, 9, 12, 15],\n",
       " [4, 8, 12, 16, 20],\n",
       " [5, 10, 15, 20, 25]]"
      ]
     },
     "execution_count": 19,
     "metadata": {},
     "output_type": "execute_result"
    }
   ],
   "source": [
    "multiplication_table(5)"
   ]
  },
  {
   "cell_type": "markdown",
   "id": "1da7ed8e",
   "metadata": {},
   "source": [
    "# Q5."
   ]
  },
  {
   "cell_type": "code",
   "execution_count": 20,
   "id": "cf3fc386",
   "metadata": {},
   "outputs": [],
   "source": [
    "def last(s):\n",
    "    s=s.split(\" \")[-1]\n",
    "    n1=\"\"\n",
    "    for i in s:\n",
    "        if (i.isalpha()) == True:\n",
    "            n1+=i\n",
    "    return n1\n",
    "def does_rhyme(s1,s2):\n",
    "    s1=last(s1)\n",
    "    s2=last(s2)\n",
    "    for i in range(len(s1),0,-1):\n",
    "        if s1 in s2:\n",
    "            return True\n",
    "        else:\n",
    "            return False"
   ]
  },
  {
   "cell_type": "code",
   "execution_count": 21,
   "id": "290d6e71",
   "metadata": {},
   "outputs": [
    {
     "data": {
      "text/plain": [
       "True"
      ]
     },
     "execution_count": 21,
     "metadata": {},
     "output_type": "execute_result"
    }
   ],
   "source": [
    "does_rhyme(\"Sam I am!\", \"Green eggs and ham.\")"
   ]
  },
  {
   "cell_type": "code",
   "execution_count": 22,
   "id": "e7577252",
   "metadata": {},
   "outputs": [
    {
     "data": {
      "text/plain": [
       "False"
      ]
     },
     "execution_count": 22,
     "metadata": {},
     "output_type": "execute_result"
    }
   ],
   "source": [
    "does_rhyme(\"and frequently do?\", \"you gotta move.\")"
   ]
  },
  {
   "cell_type": "code",
   "execution_count": 23,
   "id": "b755715f",
   "metadata": {},
   "outputs": [
    {
     "data": {
      "text/plain": [
       "False"
      ]
     },
     "execution_count": 23,
     "metadata": {},
     "output_type": "execute_result"
    }
   ],
   "source": [
    "does_rhyme(\"Sam I am!\", \"Green eggs and HAM.\")"
   ]
  },
  {
   "cell_type": "code",
   "execution_count": 24,
   "id": "cf28c7f5",
   "metadata": {},
   "outputs": [
    {
     "data": {
      "text/plain": [
       "False"
      ]
     },
     "execution_count": 24,
     "metadata": {},
     "output_type": "execute_result"
    }
   ],
   "source": [
    "does_rhyme(\"You are off to the races\", \"a splendid day.\")"
   ]
  },
  {
   "cell_type": "code",
   "execution_count": null,
   "id": "700bca61",
   "metadata": {},
   "outputs": [],
   "source": []
  }
 ],
 "metadata": {
  "kernelspec": {
   "display_name": "Python 3 (ipykernel)",
   "language": "python",
   "name": "python3"
  },
  "language_info": {
   "codemirror_mode": {
    "name": "ipython",
    "version": 3
   },
   "file_extension": ".py",
   "mimetype": "text/x-python",
   "name": "python",
   "nbconvert_exporter": "python",
   "pygments_lexer": "ipython3",
   "version": "3.9.7"
  }
 },
 "nbformat": 4,
 "nbformat_minor": 5
}
