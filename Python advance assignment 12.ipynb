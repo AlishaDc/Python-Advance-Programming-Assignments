{
 "cells": [
  {
   "cell_type": "markdown",
   "id": "27247b84",
   "metadata": {},
   "source": [
    "# Q1."
   ]
  },
  {
   "cell_type": "code",
   "execution_count": 1,
   "id": "415fa1f5",
   "metadata": {},
   "outputs": [
    {
     "ename": "TypeError",
     "evalue": "'str' object does not support item assignment",
     "output_type": "error",
     "traceback": [
      "\u001b[1;31m---------------------------------------------------------------------------\u001b[0m",
      "\u001b[1;31mTypeError\u001b[0m                                 Traceback (most recent call last)",
      "\u001b[1;32m~\\AppData\\Local\\Temp/ipykernel_1580/1551842298.py\u001b[0m in \u001b[0;36m<module>\u001b[1;34m\u001b[0m\n\u001b[0;32m      2\u001b[0m \u001b[1;33m\u001b[0m\u001b[0m\n\u001b[0;32m      3\u001b[0m \u001b[0mstr\u001b[0m \u001b[1;33m=\u001b[0m \u001b[1;34m\"Hello\"\u001b[0m\u001b[1;33m\u001b[0m\u001b[1;33m\u001b[0m\u001b[0m\n\u001b[1;32m----> 4\u001b[1;33m \u001b[0mstr\u001b[0m\u001b[1;33m[\u001b[0m\u001b[1;36m2\u001b[0m\u001b[1;33m]\u001b[0m \u001b[1;33m=\u001b[0m \u001b[1;34m'p'\u001b[0m\u001b[1;33m\u001b[0m\u001b[1;33m\u001b[0m\u001b[0m\n\u001b[0m\u001b[0;32m      5\u001b[0m \u001b[0mprint\u001b[0m\u001b[1;33m(\u001b[0m\u001b[0mstr\u001b[0m\u001b[1;33m[\u001b[0m\u001b[1;36m2\u001b[0m\u001b[1;33m]\u001b[0m\u001b[1;33m)\u001b[0m\u001b[1;33m\u001b[0m\u001b[1;33m\u001b[0m\u001b[0m\n",
      "\u001b[1;31mTypeError\u001b[0m: 'str' object does not support item assignment"
     ]
    }
   ],
   "source": [
    "# Yes, assigning a value to a string's indexed character violates the python string's immutability.\n",
    "\n",
    "str = \"Hello\"\n",
    "str[2] = 'p'\n",
    "print(str[2])"
   ]
  },
  {
   "cell_type": "markdown",
   "id": "50d48323",
   "metadata": {},
   "source": [
    "# Q2.\n",
    "\n",
    "No, it doesnot violate it because string class is having an inbuilt method which is add () which takes strings and concatenate them."
   ]
  },
  {
   "cell_type": "markdown",
   "id": "aebea8c1",
   "metadata": {},
   "source": [
    "# Q3.\n",
    "\n",
    "We can access characters in a String in Two ways\n",
    "Accessing Characters by Positive Index Number.\n",
    "Accessing Characters by Negative Index Number."
   ]
  },
  {
   "cell_type": "markdown",
   "id": "542b3b42",
   "metadata": {},
   "source": [
    "# Q4.\n",
    "\n",
    "Indexing: It is a technique used to get the item of that particuar index position or in cas eof mutable object we can also update the value or add the new value by just giving the index position and assignment operator.\n",
    "\n",
    "Slicing: It is use when we wan to extract some range of a item from some object."
   ]
  },
  {
   "cell_type": "markdown",
   "id": "27e21b14",
   "metadata": {},
   "source": [
    "# Q5.\n",
    "\n",
    "The data type of the indexed character is a string. The data form of slicing-generated substring is also a string."
   ]
  },
  {
   "cell_type": "code",
   "execution_count": 2,
   "id": "9c4e1b72",
   "metadata": {},
   "outputs": [
    {
     "name": "stdout",
     "output_type": "stream",
     "text": [
      "<class 'str'>\n",
      "<class 'str'>\n"
     ]
    }
   ],
   "source": [
    "str = \"Namaste, World!\"\n",
    "print(type(str[2]))\n",
    "print(type(str[1:5]))"
   ]
  },
  {
   "cell_type": "markdown",
   "id": "4c507786",
   "metadata": {},
   "source": [
    "# Q6.\n",
    "\n",
    "Character refers to a single letter, number, space, punctuation mark or a symbol. Its data type is actually a CHAR which stores character data in a fixed-length field.\n",
    "\n",
    "While String is a sequence of characters. A group of different different character compose a string. We enclosed it by ' ' Strings are arrays of bytes representing Unicode characters. Its type is string"
   ]
  },
  {
   "cell_type": "markdown",
   "id": "4dbf673a",
   "metadata": {},
   "source": [
    "# Q7."
   ]
  },
  {
   "cell_type": "code",
   "execution_count": 3,
   "id": "4a8025ae",
   "metadata": {},
   "outputs": [],
   "source": [
    "#Two operators : +, +=\n",
    "#Method : join()"
   ]
  },
  {
   "cell_type": "code",
   "execution_count": 4,
   "id": "c890f608",
   "metadata": {},
   "outputs": [
    {
     "name": "stdout",
     "output_type": "stream",
     "text": [
      "Namste, World!\n",
      "Namste, World!\n",
      "Namste, World!World!\n"
     ]
    }
   ],
   "source": [
    "print('Namste, '+'World!')\n",
    "\n",
    "str1='Namste, '\n",
    "str2='World!'\n",
    "str1+=str2\n",
    "print(str1)\n",
    "\n",
    "print(''.join([str1,str2]))"
   ]
  },
  {
   "cell_type": "markdown",
   "id": "4f715f9c",
   "metadata": {},
   "source": [
    "# Q8.\n",
    "\n",
    "When we first check the target string using in or not in containment operator then we could get to know whether that particular target string is present or not. If it is not present the it will give True as a result else will False. Its better to check before becaue if we are not testinng it first and the substring is not present in the string then it will result in an exception"
   ]
  },
  {
   "cell_type": "markdown",
   "id": "c357ef15",
   "metadata": {},
   "source": [
    "# Q9."
   ]
  },
  {
   "cell_type": "code",
   "execution_count": 5,
   "id": "ec7a6c82",
   "metadata": {},
   "outputs": [],
   "source": [
    "# Operators : >,<,>=,<=,==\n",
    "# built-in string methods : isalpha, isdecimal, isdigit, islower, isupper, isspace, isprintable etc\n",
    " "
   ]
  },
  {
   "cell_type": "code",
   "execution_count": null,
   "id": "4815e3d8",
   "metadata": {},
   "outputs": [],
   "source": []
  }
 ],
 "metadata": {
  "kernelspec": {
   "display_name": "Python 3 (ipykernel)",
   "language": "python",
   "name": "python3"
  },
  "language_info": {
   "codemirror_mode": {
    "name": "ipython",
    "version": 3
   },
   "file_extension": ".py",
   "mimetype": "text/x-python",
   "name": "python",
   "nbconvert_exporter": "python",
   "pygments_lexer": "ipython3",
   "version": "3.9.7"
  }
 },
 "nbformat": 4,
 "nbformat_minor": 5
}
