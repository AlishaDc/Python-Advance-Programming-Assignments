{
 "cells": [
  {
   "cell_type": "markdown",
   "id": "59d7e2ba",
   "metadata": {},
   "source": [
    "# Q1.\n",
    "\n",
    "Arrays represent multiple data items of the same type using a single name. In arrays, the elements can be accessed randomly by using the index number. Arrays allocate memory in contiguous memory locations for all its elements. Hence there is no chance of extra memory being allocated in case of arrays. This avoids memory overflow or shortage of memory in arrays."
   ]
  },
  {
   "cell_type": "markdown",
   "id": "beb5ab81",
   "metadata": {},
   "source": [
    "# Q2.\n",
    "\n",
    "The number of elements to be stored in an array should be known in advance.\n",
    "\n",
    "An array is a static structure (which means the array is of fixed size). Once declared the size of the array cannot be modified. The memory which is allocated to it cannot be increased or decreased.\n",
    "\n",
    "Insertion and deletion are quite difficult in an array as the elements are stored in consecutive memory locations and the shifting operation is costly.\n",
    "\n",
    "Allocating more memory than the requirement leads to wastage of memory space and less allocation of memory also leads to a problem."
   ]
  },
  {
   "cell_type": "markdown",
   "id": "52cbd454",
   "metadata": {},
   "source": [
    "# Q3.\n",
    "\n",
    "\n",
    "The array package doesn't provide any help with numerical calculation with the items insdie it in number form while NumPy give you a wide variety of numerical operations\n",
    "\n",
    "An array is a single dimensional entity which hold the numerical data, while numpy can have more than 1 dimension.\n",
    "\n",
    "In case of array, item can be accessed by its index position and it is easy task while in numpy item is accessed by its column and row index, which makes it slightly time taking. Same goes with appending operation.\n",
    "\n",
    "In case of array we do not form a tabular structure, while in numpy it forms a tabular structure"
   ]
  },
  {
   "cell_type": "markdown",
   "id": "3979bb19",
   "metadata": {},
   "source": [
    "# Q4.\n",
    "\n",
    "empty function: An empty function is a function that does not contain any statement within its body. If you try to write a function definition without any statement in python ,it will return an error. To avoid this, we use pass statement. pass is a special statement in Python that does nothing. It only works as a dummy statement\n",
    "\n",
    "ones: This function returns a new array of given shape and data type, where the element’s value is 1.\n",
    "\n",
    "zeros: This function returns a new array of given shape and data type, where the element’s value is 0"
   ]
  },
  {
   "cell_type": "markdown",
   "id": "ef05fe35",
   "metadata": {},
   "source": [
    "# Q5.\n",
    "\n",
    "Its function is to execute the function over each coordinate and the resulting array. The function is called with N parameters, where N is the rank of shape. Each parameter represents the coordinates of the array varying along a specific axis."
   ]
  },
  {
   "cell_type": "markdown",
   "id": "dfcd0c4d",
   "metadata": {},
   "source": [
    "# Q6.\n",
    "\n",
    "If any scaler value such as integer is added to the numpy array then all the elements inside the array will add that value in it."
   ]
  },
  {
   "cell_type": "markdown",
   "id": "e81eb3b6",
   "metadata": {},
   "source": [
    "# Q7.\n",
    "\n",
    "It will do the operation as per operators. Like if we use + operand it will update the current array by adding and when we use '*', it will update by multiplying."
   ]
  },
  {
   "cell_type": "markdown",
   "id": "9ea6b3ff",
   "metadata": {},
   "source": [
    "# Q8.\n",
    "\n",
    "Yes it is possible that we can include a string of fixed length in numpy array. The dtype of any numpy array containing string values is the maximum length of any string present in the array.\n",
    "\n",
    "Once set, it will only be able to store new string having length not more than the maximum length at the time of the creation. If we try to reassign some another string value having length greater than the maximum length of the existing elements, it simply discards all the values beyond the maximum length accept upto those values which are under the limit"
   ]
  },
  {
   "cell_type": "markdown",
   "id": "1a66107e",
   "metadata": {},
   "source": [
    "# Q9.\n",
    "\n",
    "It will simply add or multiply element to element at same position.\n",
    "\n",
    "The only requirement which must be met are: Data type should be same and Shape of the two matrices must be same."
   ]
  },
  {
   "cell_type": "markdown",
   "id": "ac323a25",
   "metadata": {},
   "source": [
    "# Q10."
   ]
  },
  {
   "cell_type": "code",
   "execution_count": 7,
   "id": "b025b8f4",
   "metadata": {},
   "outputs": [
    {
     "name": "stdout",
     "output_type": "stream",
     "text": [
      "[True, True, masked, masked]\n"
     ]
    }
   ],
   "source": [
    "import numpy as np\n",
    "y = np.array([True,True,False,True])          \n",
    "x = np.array([1,2,3,4])         \n",
    "m = np.ma.masked_where(x>2,y)  \n",
    "print(list(m))"
   ]
  },
  {
   "cell_type": "markdown",
   "id": "0145ff9e",
   "metadata": {},
   "source": [
    "# Q11.\n",
    "\n",
    "Standard deviation can be calculated in amny ways. If wee see the formula of SD, it says\n",
    "\n",
    "std= Square Root of [ Summation of [square of (x-mean)/number of observation] ]"
   ]
  },
  {
   "cell_type": "markdown",
   "id": "607cb812",
   "metadata": {},
   "source": [
    "# Q12.\n",
    "\n",
    "It will be same as that of the given array."
   ]
  },
  {
   "cell_type": "code",
   "execution_count": 8,
   "id": "d75812a0",
   "metadata": {},
   "outputs": [
    {
     "name": "stdout",
     "output_type": "stream",
     "text": [
      "[True, True, masked, masked]\n",
      "\n",
      "Dimension is 1\n"
     ]
    }
   ],
   "source": [
    "y = np.array([True,True,False,True])          \n",
    "x = np.array([1,2,3,4])         \n",
    "m = np.ma.masked_where(x>2,y)  \n",
    "print(list(m))\n",
    "print()\n",
    "print('Dimension is',m.ndim)"
   ]
  },
  {
   "cell_type": "code",
   "execution_count": null,
   "id": "9010f907",
   "metadata": {},
   "outputs": [],
   "source": []
  }
 ],
 "metadata": {
  "kernelspec": {
   "display_name": "Python 3 (ipykernel)",
   "language": "python",
   "name": "python3"
  },
  "language_info": {
   "codemirror_mode": {
    "name": "ipython",
    "version": 3
   },
   "file_extension": ".py",
   "mimetype": "text/x-python",
   "name": "python",
   "nbconvert_exporter": "python",
   "pygments_lexer": "ipython3",
   "version": "3.9.7"
  }
 },
 "nbformat": 4,
 "nbformat_minor": 5
}
