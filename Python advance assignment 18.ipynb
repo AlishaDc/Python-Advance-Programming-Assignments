{
 "cells": [
  {
   "cell_type": "markdown",
   "id": "7b0fd898",
   "metadata": {},
   "source": [
    "# Q1.\n",
    "\n",
    "Binary Files\n",
    "Binary files typically contain a sequence of bytes, or ordered groupings of eight bits.\n",
    "\n",
    "When creating a custom file format for a program, these bytes are arranged into a format that.\n",
    "\n",
    "Stores the necessary information for the application. Binary file formats may include multiple types of data in the same file, such as image, video, and audio data. This data can be interpreted by supporting programs, but will show up as garbled text in a text editor.\n",
    "\n",
    "\n",
    "\n",
    "Text Files\n",
    "Text files are more restrictive than binary files since they can only contain textual data. However, unlike binary files, they are less likely to become corrupted. While a small error in a binary file may make it unreadable, a small error in a text file may simply show up once the file has been opened.\n",
    "\n",
    "Text files may be saved in either a plain text (.TXT) format and rich text (.RTF) format. A typical plain text file contains several lines of text that are each followed by an End-of-Line (EOL) character.\n",
    "\n",
    "An End-of-File (EOF) marker is placed after the final character, which signals the end of the file.\n",
    "\n",
    "Rich text files use a similar file structure, but may also include text styles, such as bold and italics, as well as page formatting information. Both plain text and rich text files include a (character encoding) scheme that determines how the characters are interpreted and what characters can be displayed.Since text files use a simple, standard format, many programs are capable of reading and editing text files."
   ]
  },
  {
   "cell_type": "markdown",
   "id": "89c76493",
   "metadata": {},
   "source": [
    "# Q2.\n",
    "\n",
    "Text file: When we wan to store some information in such a way that every one can easily understand. Means readable and understood by the human not to the machine then in that case we prefer using text file. We can store any kind of information by using just simply writing the characters. We do not write the information in the form of bits and all. So that if any thing is written wrong in that and cause some erro then it can be easily handle.\n",
    "\n",
    "Binary file: When we want to make some kind of a file which can only read by the machine not by the human then we use binary file. With this file we can store the information in bits. We can only be able to see the final functionality of the file like pdf file, audio file, video files, etc. We can only see the fina function but do not see the available data inside that which helped in maing that application."
   ]
  },
  {
   "cell_type": "markdown",
   "id": "1e5db20c",
   "metadata": {},
   "source": [
    "# Q3.\n",
    "\n",
    "While reading,read method returns a sequence of bytes as a string. With using binary operaions i.e. using bitwise operator the integers are first converted into binary and then operations are performed on bit by bit. This is a very lengthy task from usual steps. More over it is not possible for a reader to read the integers in binary format."
   ]
  },
  {
   "cell_type": "markdown",
   "id": "76507790",
   "metadata": {},
   "source": [
    "# Q4.\n",
    "\n",
    "with keyword is very useful while working with a file. This gives u a privellage that u dnt need to worry about closing the file after the work is completed.\n",
    "\n",
    "Sometimes it happen that we have written a long codes and we somehow we forgot to close the file. This may lead to error with the file so we use with keyword.\n",
    "\n",
    "The with statement itself ensures proper acquisition and release of resources"
   ]
  },
  {
   "cell_type": "markdown",
   "id": "02792ab6",
   "metadata": {},
   "source": [
    "# Q5.\n",
    "\n",
    "read line: Yes while reading a line using object.read() function everynew line will be readed\n",
    "\n",
    "write line: No it does not append a new line. It will just write the new data side by side. If we use 'w' as a mode then this will truncate the everyline if available there in the file and write the new text which we have given. And again if we give the new text more than one time in the same code, it will get append to the next right."
   ]
  },
  {
   "cell_type": "markdown",
   "id": "8c7980de",
   "metadata": {},
   "source": [
    "# Q6.\n",
    "\n",
    "RandomAccess File class is used for reading and writing to random access file.\n",
    "\n",
    "read and write file handling operation enable random access operations. With these operations, random access file allows you to read and write a small chunk of data at any position in the file, using a file pointer."
   ]
  },
  {
   "cell_type": "markdown",
   "id": "6cbbdda8",
   "metadata": {},
   "source": [
    "# Q7.\n",
    "\n",
    "Whenever suppose we need to convert the data types (like string and number) into string of bytes we use struct module.\n",
    "\n",
    "When we need to parse the binary files of data stored in C into python we generally used this module"
   ]
  },
  {
   "cell_type": "markdown",
   "id": "89b479ef",
   "metadata": {},
   "source": [
    "# Q8.\n",
    "\n",
    "Pickling is storing some data in the binary form to further functionality or operation of application. The data gets converted into binary format by suing pickle module. It best when we are creating some application like AI application and then we need to load it for deployment."
   ]
  },
  {
   "cell_type": "markdown",
   "id": "c6929894",
   "metadata": {},
   "source": [
    "# Q9.\n",
    "\n",
    "When we need to store the data in constant/continuos manner such that we do not require the relational data base, then we use shelve package. The shelf object defined in this module is dictionary-like object which is persistently stored in a disk file. This creates a file similar to dbm database. Only string data type can be used as key in this special dictionary object."
   ]
  },
  {
   "cell_type": "markdown",
   "id": "2a9b1099",
   "metadata": {},
   "source": [
    "# Q10.\n",
    "\n",
    "One Restriction of shelve objects is that the keys to the objects must be strings, but the values stored in a shelve object can be any Python object, as long as it can be written with the pickle module."
   ]
  },
  {
   "cell_type": "code",
   "execution_count": null,
   "id": "01a9fcd5",
   "metadata": {},
   "outputs": [],
   "source": []
  }
 ],
 "metadata": {
  "kernelspec": {
   "display_name": "Python 3 (ipykernel)",
   "language": "python",
   "name": "python3"
  },
  "language_info": {
   "codemirror_mode": {
    "name": "ipython",
    "version": 3
   },
   "file_extension": ".py",
   "mimetype": "text/x-python",
   "name": "python",
   "nbconvert_exporter": "python",
   "pygments_lexer": "ipython3",
   "version": "3.9.7"
  }
 },
 "nbformat": 4,
 "nbformat_minor": 5
}
