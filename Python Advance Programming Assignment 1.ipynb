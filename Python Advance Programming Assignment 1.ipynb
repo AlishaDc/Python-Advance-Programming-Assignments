{
 "cells": [
  {
   "cell_type": "markdown",
   "metadata": {},
   "source": [
    "# Q1."
   ]
  },
  {
   "cell_type": "code",
   "execution_count": 1,
   "metadata": {},
   "outputs": [],
   "source": [
    "def check_score(lst):\n",
    "    symbol = {'#' : 5, 'O' : 3, 'X' : 1, '!' : -1, '!!' : -3, '!!!' : -5}\n",
    "    expression = ''\n",
    "    for i in lst:\n",
    "        for j in i:\n",
    "            expression = expression + '+' + '(' + str(symbol[j]) + ')'\n",
    "    print('The Expression : ',expression )\n",
    "    if eval(expression) < 0 :\n",
    "        return 0\n",
    "    else:\n",
    "        return eval(expression)"
   ]
  },
  {
   "cell_type": "code",
   "execution_count": 2,
   "metadata": {},
   "outputs": [
    {
     "name": "stdout",
     "output_type": "stream",
     "text": [
      "The Expression :  +(5)+(-1)+(-3)+(1)\n"
     ]
    },
    {
     "data": {
      "text/plain": [
       "2"
      ]
     },
     "execution_count": 2,
     "metadata": {},
     "output_type": "execute_result"
    }
   ],
   "source": [
    "check_score([\n",
    "['#', '!'],\n",
    "['!!', 'X']\n",
    "])"
   ]
  },
  {
   "cell_type": "code",
   "execution_count": 3,
   "metadata": {},
   "outputs": [
    {
     "name": "stdout",
     "output_type": "stream",
     "text": [
      "The Expression :  +(-5)+(3)+(-1)+(1)+(5)+(-5)+(-3)+(1)+(3)\n"
     ]
    },
    {
     "data": {
      "text/plain": [
       "0"
      ]
     },
     "execution_count": 3,
     "metadata": {},
     "output_type": "execute_result"
    }
   ],
   "source": [
    "check_score([\n",
    "['!!!', 'O', '!'],\n",
    "['X', '#', '!!!'],\n",
    "['!!', 'X', 'O']\n",
    "])"
   ]
  },
  {
   "cell_type": "markdown",
   "metadata": {},
   "source": [
    "# Q2."
   ]
  },
  {
   "cell_type": "code",
   "execution_count": 4,
   "metadata": {},
   "outputs": [],
   "source": [
    "def combinations(*args):\n",
    "    comb = 1\n",
    "    for i in args:\n",
    "        comb = comb*i\n",
    "    return comb"
   ]
  },
  {
   "cell_type": "code",
   "execution_count": 7,
   "metadata": {},
   "outputs": [
    {
     "data": {
      "text/plain": [
       "6"
      ]
     },
     "execution_count": 7,
     "metadata": {},
     "output_type": "execute_result"
    }
   ],
   "source": [
    "combinations(2,3)"
   ]
  },
  {
   "cell_type": "code",
   "execution_count": 8,
   "metadata": {},
   "outputs": [
    {
     "data": {
      "text/plain": [
       "84"
      ]
     },
     "execution_count": 8,
     "metadata": {},
     "output_type": "execute_result"
    }
   ],
   "source": [
    "combinations(3,7,4)"
   ]
  },
  {
   "cell_type": "code",
   "execution_count": 9,
   "metadata": {},
   "outputs": [
    {
     "data": {
      "text/plain": [
       "120"
      ]
     },
     "execution_count": 9,
     "metadata": {},
     "output_type": "execute_result"
    }
   ],
   "source": [
    "combinations(2,3,4,5)"
   ]
  },
  {
   "cell_type": "markdown",
   "metadata": {},
   "source": [
    "# Q3."
   ]
  },
  {
   "cell_type": "code",
   "execution_count": 10,
   "metadata": {},
   "outputs": [],
   "source": [
    "char_to_dots = {\n",
    "'A': '.-', 'B': '-...', 'C': '-.-.', 'D': '-..', 'E': '.', 'F': '..-.',\n",
    "'G': '--.', 'H': '....', 'I': '..', 'J': '.---', 'K': '-.-', 'L': '.-..',\n",
    "'M': '--', 'N': '-.', 'O': '---', 'P': '.--.', 'Q': '--.-', 'R': '.-.',\n",
    "'S': '...', 'T': '-', 'U': '..-', 'V': '...-', 'W': '.--', 'X': '-..-',\n",
    "'Y': '-.--', 'Z': '--..', ' ': ' ', '0': '-----',\n",
    "'1': '.----', '2': '..---', '3': '...--', '4': '....-', '5': '.....',\n",
    "'6': '-....', '7': '--...', '8': '---..', '9': '----.',\n",
    "'&': '.-...', \"'\": '.----.', '@': '.--.-.', ')': '-.--.-', '(': '-.--.',\n",
    "':': '---...', ',': '--..--', '=': '-...-', '!': '-.-.--', '.': '.-.-.-',\n",
    "'-': '-....-', '+': '.-.-.', \"\": '.-..-.', '?': '..--..', '/': '-..-.'\n",
    "}\n",
    "\n",
    "def encode_morse(str):\n",
    "    morse = []\n",
    "    for c in str:\n",
    "        print(morse)\n",
    "        morse.append(char_to_dots[c])\n",
    "    print(morse)\n",
    "        \n",
    "    return ''.join(morse)"
   ]
  },
  {
   "cell_type": "code",
   "execution_count": 11,
   "metadata": {},
   "outputs": [
    {
     "name": "stdout",
     "output_type": "stream",
     "text": [
      "[]\n",
      "['.']\n",
      "['.', '-..']\n",
      "['.', '-..', '.-']\n",
      "['.', '-..', '.-', '-...']\n",
      "['.', '-..', '.-', '-...', '-...']\n",
      "['.', '-..', '.-', '-...', '-...', '..']\n",
      "['.', '-..', '.-', '-...', '-...', '..', '-']\n",
      "['.', '-..', '.-', '-...', '-...', '..', '-', ' ']\n",
      "['.', '-..', '.-', '-...', '-...', '..', '-', ' ', '-.-.']\n",
      "['.', '-..', '.-', '-...', '-...', '..', '-', ' ', '-.-.', '....']\n",
      "['.', '-..', '.-', '-...', '-...', '..', '-', ' ', '-.-.', '....', '.-']\n",
      "['.', '-..', '.-', '-...', '-...', '..', '-', ' ', '-.-.', '....', '.-', '.-..']\n",
      "['.', '-..', '.-', '-...', '-...', '..', '-', ' ', '-.-.', '....', '.-', '.-..', '.-..']\n",
      "['.', '-..', '.-', '-...', '-...', '..', '-', ' ', '-.-.', '....', '.-', '.-..', '.-..', '.']\n",
      "['.', '-..', '.-', '-...', '-...', '..', '-', ' ', '-.-.', '....', '.-', '.-..', '.-..', '.', '-.']\n",
      "['.', '-..', '.-', '-...', '-...', '..', '-', ' ', '-.-.', '....', '.-', '.-..', '.-..', '.', '-.', '--.']\n",
      "['.', '-..', '.-', '-...', '-...', '..', '-', ' ', '-.-.', '....', '.-', '.-..', '.-..', '.', '-.', '--.', '.']\n"
     ]
    },
    {
     "data": {
      "text/plain": [
       "'.-...--...-.....- -.-......-.-...-...-.--..'"
      ]
     },
     "execution_count": 11,
     "metadata": {},
     "output_type": "execute_result"
    }
   ],
   "source": [
    "encode_morse('EDABBIT CHALLENGE')"
   ]
  },
  {
   "cell_type": "code",
   "execution_count": 17,
   "metadata": {},
   "outputs": [
    {
     "name": "stdout",
     "output_type": "stream",
     "text": [
      "[]\n",
      "['....']\n",
      "['....', '.']\n",
      "['....', '.', '.-..']\n",
      "['....', '.', '.-..', '.--.']\n",
      "['....', '.', '.-..', '.--.', ' ']\n",
      "['....', '.', '.-..', '.--.', ' ', '--']\n",
      "['....', '.', '.-..', '.--.', ' ', '--', '.']\n",
      "['....', '.', '.-..', '.--.', ' ', '--', '.', ' ']\n",
      "['....', '.', '.-..', '.--.', ' ', '--', '.', ' ', '.--.-.']\n"
     ]
    },
    {
     "data": {
      "text/plain": [
       "'......-...--. --. .--.-.'"
      ]
     },
     "execution_count": 17,
     "metadata": {},
     "output_type": "execute_result"
    }
   ],
   "source": [
    "encode_morse('HELP ME @')"
   ]
  },
  {
   "cell_type": "markdown",
   "metadata": {},
   "source": [
    "# Q4."
   ]
  },
  {
   "cell_type": "code",
   "execution_count": 13,
   "metadata": {},
   "outputs": [],
   "source": [
    "def prime(n):\n",
    "    if (n==1):\n",
    "        return False\n",
    "    elif (n==2):\n",
    "        return True;\n",
    "    else:\n",
    "        for x in range(2,n):\n",
    "            if(n % x==0):\n",
    "                return False\n",
    "        return True"
   ]
  },
  {
   "cell_type": "code",
   "execution_count": 14,
   "metadata": {},
   "outputs": [
    {
     "data": {
      "text/plain": [
       "True"
      ]
     },
     "execution_count": 14,
     "metadata": {},
     "output_type": "execute_result"
    }
   ],
   "source": [
    "prime(7)"
   ]
  },
  {
   "cell_type": "code",
   "execution_count": 15,
   "metadata": {},
   "outputs": [
    {
     "data": {
      "text/plain": [
       "True"
      ]
     },
     "execution_count": 15,
     "metadata": {},
     "output_type": "execute_result"
    }
   ],
   "source": [
    "prime(56963)"
   ]
  },
  {
   "cell_type": "code",
   "execution_count": 16,
   "metadata": {},
   "outputs": [
    {
     "data": {
      "text/plain": [
       "False"
      ]
     },
     "execution_count": 16,
     "metadata": {},
     "output_type": "execute_result"
    }
   ],
   "source": [
    "prime(5151512515524)"
   ]
  },
  {
   "cell_type": "markdown",
   "metadata": {},
   "source": [
    "# Q5."
   ]
  },
  {
   "cell_type": "code",
   "execution_count": 18,
   "metadata": {},
   "outputs": [],
   "source": [
    "def char_position(letter):\n",
    "    return (ord(letter) - 97) + 1\n",
    "\n",
    "def to_boolean_list(s):\n",
    "    lst = []\n",
    "    for i in range(len(s)):\n",
    "        if char_position(s[i]) % 2 == 0:\n",
    "            lst.append(False)\n",
    "        else:\n",
    "            lst.append(True)\n",
    "    return lst"
   ]
  },
  {
   "cell_type": "code",
   "execution_count": 19,
   "metadata": {},
   "outputs": [
    {
     "data": {
      "text/plain": [
       "[False, True, True, True]"
      ]
     },
     "execution_count": 19,
     "metadata": {},
     "output_type": "execute_result"
    }
   ],
   "source": [
    "to_boolean_list('deeo')"
   ]
  },
  {
   "cell_type": "code",
   "execution_count": 20,
   "metadata": {},
   "outputs": [
    {
     "data": {
      "text/plain": [
       "[False, True, False, True, True]"
      ]
     },
     "execution_count": 20,
     "metadata": {},
     "output_type": "execute_result"
    }
   ],
   "source": [
    "to_boolean_list('loves')"
   ]
  },
  {
   "cell_type": "code",
   "execution_count": 21,
   "metadata": {},
   "outputs": [
    {
     "data": {
      "text/plain": [
       "[False, True, True, False]"
      ]
     },
     "execution_count": 21,
     "metadata": {},
     "output_type": "execute_result"
    }
   ],
   "source": [
    "to_boolean_list('tesh')"
   ]
  }
 ],
 "metadata": {
  "kernelspec": {
   "display_name": "Python 3",
   "language": "python",
   "name": "python3"
  },
  "language_info": {
   "codemirror_mode": {
    "name": "ipython",
    "version": 3
   },
   "file_extension": ".py",
   "mimetype": "text/x-python",
   "name": "python",
   "nbconvert_exporter": "python",
   "pygments_lexer": "ipython3",
   "version": "3.8.5"
  }
 },
 "nbformat": 4,
 "nbformat_minor": 4
}
