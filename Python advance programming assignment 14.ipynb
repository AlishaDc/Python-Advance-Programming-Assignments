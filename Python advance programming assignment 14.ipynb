{
 "cells": [
  {
   "cell_type": "markdown",
   "id": "0bccee2b",
   "metadata": {},
   "source": [
    "# Q1."
   ]
  },
  {
   "cell_type": "code",
   "execution_count": 1,
   "id": "28bc9c7d",
   "metadata": {},
   "outputs": [],
   "source": [
    "def show_the_love(l):\n",
    "    m= min(l)\n",
    "    x= l.index(m)\n",
    "    tf = 0\n",
    "    for i in range(len(l)):\n",
    "        if l[i] != m:\n",
    "            tf=tf+l[i]*0.25\n",
    "            l[i] = l[i]-(l[i]*0.25)\n",
    "    l[x]=l[x]+tf\n",
    "    return(l)"
   ]
  },
  {
   "cell_type": "code",
   "execution_count": 2,
   "id": "5808eb5c",
   "metadata": {},
   "outputs": [
    {
     "data": {
      "text/plain": [
       "[3.0, 3.0, 3.0]"
      ]
     },
     "execution_count": 2,
     "metadata": {},
     "output_type": "execute_result"
    }
   ],
   "source": [
    "show_the_love([4, 1, 4])"
   ]
  },
  {
   "cell_type": "code",
   "execution_count": 3,
   "id": "a9447f1f",
   "metadata": {},
   "outputs": [
    {
     "data": {
      "text/plain": [
       "[12.0, 7.5, 14.5]"
      ]
     },
     "execution_count": 3,
     "metadata": {},
     "output_type": "execute_result"
    }
   ],
   "source": [
    "show_the_love([16, 10, 8])"
   ]
  },
  {
   "cell_type": "code",
   "execution_count": 4,
   "id": "e06c2f92",
   "metadata": {},
   "outputs": [
    {
     "data": {
      "text/plain": [
       "[27.0, 75.0]"
      ]
     },
     "execution_count": 4,
     "metadata": {},
     "output_type": "execute_result"
    }
   ],
   "source": [
    "show_the_love([2, 100])"
   ]
  },
  {
   "cell_type": "markdown",
   "id": "61c85255",
   "metadata": {},
   "source": [
    "# Q2."
   ]
  },
  {
   "cell_type": "code",
   "execution_count": 5,
   "id": "8dd4670c",
   "metadata": {},
   "outputs": [],
   "source": [
    "def letters(l1,l2):\n",
    "    l1=set(l1)\n",
    "    l2=set(l2)\n",
    "    l3=[]\n",
    "    c=\"\"\n",
    "    for i in l1:\n",
    "        if i in l2:\n",
    "            c += i\n",
    "    c= ''.join(sorted(c))\n",
    "    a= ''.join(sorted(l1.difference(l2)))\n",
    "    b= ''.join(sorted(l2.difference(l1)))\n",
    "    l3.append(c)\n",
    "    l3.append(a)\n",
    "    l3.append(b)\n",
    "    return(l3)"
   ]
  },
  {
   "cell_type": "code",
   "execution_count": 6,
   "id": "7e714817",
   "metadata": {},
   "outputs": [
    {
     "data": {
      "text/plain": [
       "['aps', 'hr', 'o']"
      ]
     },
     "execution_count": 6,
     "metadata": {},
     "output_type": "execute_result"
    }
   ],
   "source": [
    "letters(\"sharp\", \"soap\") "
   ]
  },
  {
   "cell_type": "code",
   "execution_count": 7,
   "id": "e04e5c3a",
   "metadata": {},
   "outputs": [
    {
     "data": {
      "text/plain": [
       "['bdor', 'a', 'e']"
      ]
     },
     "execution_count": 7,
     "metadata": {},
     "output_type": "execute_result"
    }
   ],
   "source": [
    "letters(\"board\", \"bored\")"
   ]
  },
  {
   "cell_type": "code",
   "execution_count": 8,
   "id": "0e960fbc",
   "metadata": {},
   "outputs": [
    {
     "data": {
      "text/plain": [
       "['enp', 'ahis', 'lov']"
      ]
     },
     "execution_count": 8,
     "metadata": {},
     "output_type": "execute_result"
    }
   ],
   "source": [
    "letters(\"happiness\", \"envelope\")"
   ]
  },
  {
   "cell_type": "code",
   "execution_count": 9,
   "id": "3a0d87b1",
   "metadata": {},
   "outputs": [
    {
     "data": {
      "text/plain": [
       "['flu', 'ekr', 'y']"
      ]
     },
     "execution_count": 9,
     "metadata": {},
     "output_type": "execute_result"
    }
   ],
   "source": [
    "letters(\"kerfuffle\", \"fluffy\")"
   ]
  },
  {
   "cell_type": "code",
   "execution_count": 10,
   "id": "421adc72",
   "metadata": {},
   "outputs": [
    {
     "data": {
      "text/plain": [
       "['ahm', 'ct', '']"
      ]
     },
     "execution_count": 10,
     "metadata": {},
     "output_type": "execute_result"
    }
   ],
   "source": [
    "letters(\"match\", \"ham\")"
   ]
  },
  {
   "cell_type": "markdown",
   "id": "4234cfe7",
   "metadata": {},
   "source": [
    "# Q3."
   ]
  },
  {
   "cell_type": "code",
   "execution_count": 11,
   "id": "05b8e41a",
   "metadata": {},
   "outputs": [],
   "source": [
    "def pairs(l):\n",
    "    r = l[::-1]\n",
    "    a=[]\n",
    "    n=[]\n",
    "    i = 0\n",
    "    if len(l) %2 == 0:\n",
    "        length = int(len(l)/2)\n",
    "    else:\n",
    "        length = int(len(l)/2) +1\n",
    "    while length:\n",
    "        a.append(l[i])\n",
    "        a.append(r[i])\n",
    "        length = length -1\n",
    "        i = i+1\n",
    "    i=0\n",
    "    while i<len(a):\n",
    "        n.append(a[i:i+2])\n",
    "        i+=2\n",
    "    return n"
   ]
  },
  {
   "cell_type": "code",
   "execution_count": 12,
   "id": "3df18ad9",
   "metadata": {},
   "outputs": [
    {
     "data": {
      "text/plain": [
       "[[1, 7], [2, 6], [3, 5], [4, 4]]"
      ]
     },
     "execution_count": 12,
     "metadata": {},
     "output_type": "execute_result"
    }
   ],
   "source": [
    "pairs([1, 2, 3, 4, 5, 6, 7]) "
   ]
  },
  {
   "cell_type": "code",
   "execution_count": 13,
   "id": "7f09d9eb",
   "metadata": {},
   "outputs": [
    {
     "data": {
      "text/plain": [
       "[[1, 6], [2, 5], [3, 4]]"
      ]
     },
     "execution_count": 13,
     "metadata": {},
     "output_type": "execute_result"
    }
   ],
   "source": [
    "pairs([1, 2, 3, 4, 5, 6])"
   ]
  },
  {
   "cell_type": "code",
   "execution_count": 14,
   "id": "fc4f9eb5",
   "metadata": {},
   "outputs": [
    {
     "data": {
      "text/plain": [
       "[[5, 2], [9, 1], [8, 8]]"
      ]
     },
     "execution_count": 14,
     "metadata": {},
     "output_type": "execute_result"
    }
   ],
   "source": [
    "pairs([5, 9, 8, 1, 2])"
   ]
  },
  {
   "cell_type": "code",
   "execution_count": 15,
   "id": "9bf81834",
   "metadata": {},
   "outputs": [
    {
     "data": {
      "text/plain": [
       "[]"
      ]
     },
     "execution_count": 15,
     "metadata": {},
     "output_type": "execute_result"
    }
   ],
   "source": [
    "pairs([])"
   ]
  },
  {
   "cell_type": "markdown",
   "id": "6a3a085c",
   "metadata": {},
   "source": [
    "# Q4."
   ]
  },
  {
   "cell_type": "code",
   "execution_count": 16,
   "id": "f8b4832f",
   "metadata": {},
   "outputs": [],
   "source": [
    "def add_str_nums(a,b):\n",
    "        \n",
    "    if not a:\n",
    "        a=\"0\"\n",
    "    if not b:\n",
    "        b=\"0\"\n",
    "    try:  \n",
    "        return str(int(a)+int(b))\n",
    "    except:\n",
    "        return \"-1\""
   ]
  },
  {
   "cell_type": "code",
   "execution_count": 17,
   "id": "91107622",
   "metadata": {},
   "outputs": [
    {
     "data": {
      "text/plain": [
       "'9'"
      ]
     },
     "execution_count": 17,
     "metadata": {},
     "output_type": "execute_result"
    }
   ],
   "source": [
    "add_str_nums(\"4\", \"5\")"
   ]
  },
  {
   "cell_type": "code",
   "execution_count": 18,
   "id": "456adfd5",
   "metadata": {},
   "outputs": [
    {
     "data": {
      "text/plain": [
       "'-1'"
      ]
     },
     "execution_count": 18,
     "metadata": {},
     "output_type": "execute_result"
    }
   ],
   "source": [
    "add_str_nums(\"abcdefg\", \"3\")"
   ]
  },
  {
   "cell_type": "code",
   "execution_count": 19,
   "id": "ef3df323",
   "metadata": {},
   "outputs": [
    {
     "data": {
      "text/plain": [
       "'1'"
      ]
     },
     "execution_count": 19,
     "metadata": {},
     "output_type": "execute_result"
    }
   ],
   "source": [
    "add_str_nums(\"1\", \"\")"
   ]
  },
  {
   "cell_type": "code",
   "execution_count": 20,
   "id": "3fb0bab2",
   "metadata": {},
   "outputs": [
    {
     "data": {
      "text/plain": [
       "'1874682736267235927391936562808774986'"
      ]
     },
     "execution_count": 20,
     "metadata": {},
     "output_type": "execute_result"
    }
   ],
   "source": [
    "add_str_nums(\"1874682736267235927359283579235789257\", \"32652983572985729\")"
   ]
  },
  {
   "cell_type": "markdown",
   "id": "aad6720c",
   "metadata": {},
   "source": [
    "# Q5."
   ]
  },
  {
   "cell_type": "code",
   "execution_count": 21,
   "id": "dfeeeaa4",
   "metadata": {},
   "outputs": [],
   "source": [
    "def unmix(s):\n",
    "    s=''.join([ s[x:x+2][::-1] for x in range(0, len(s), 2) ])\n",
    "    return s"
   ]
  },
  {
   "cell_type": "code",
   "execution_count": 22,
   "id": "59ff7144",
   "metadata": {},
   "outputs": [
    {
     "data": {
      "text/plain": [
       "'214365'"
      ]
     },
     "execution_count": 22,
     "metadata": {},
     "output_type": "execute_result"
    }
   ],
   "source": [
    "unmix(\"123456\")"
   ]
  },
  {
   "cell_type": "code",
   "execution_count": 23,
   "id": "a8819035",
   "metadata": {},
   "outputs": [
    {
     "data": {
      "text/plain": [
       "'This is a mixed up string.'"
      ]
     },
     "execution_count": 23,
     "metadata": {},
     "output_type": "execute_result"
    }
   ],
   "source": [
    "unmix(\"hTsii  s aimex dpus rtni.g\")"
   ]
  },
  {
   "cell_type": "code",
   "execution_count": 24,
   "id": "a9507c08",
   "metadata": {},
   "outputs": [
    {
     "data": {
      "text/plain": [
       "'abcde'"
      ]
     },
     "execution_count": 24,
     "metadata": {},
     "output_type": "execute_result"
    }
   ],
   "source": [
    "unmix(\"badce\")"
   ]
  },
  {
   "cell_type": "code",
   "execution_count": null,
   "id": "00ad2c7c",
   "metadata": {},
   "outputs": [],
   "source": []
  }
 ],
 "metadata": {
  "kernelspec": {
   "display_name": "Python 3 (ipykernel)",
   "language": "python",
   "name": "python3"
  },
  "language_info": {
   "codemirror_mode": {
    "name": "ipython",
    "version": 3
   },
   "file_extension": ".py",
   "mimetype": "text/x-python",
   "name": "python",
   "nbconvert_exporter": "python",
   "pygments_lexer": "ipython3",
   "version": "3.9.7"
  }
 },
 "nbformat": 4,
 "nbformat_minor": 5
}
