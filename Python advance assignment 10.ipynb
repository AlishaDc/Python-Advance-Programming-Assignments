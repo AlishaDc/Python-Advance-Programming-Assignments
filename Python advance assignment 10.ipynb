{
 "cells": [
  {
   "cell_type": "markdown",
   "id": "64bcb51f",
   "metadata": {},
   "source": [
    "# Q1.\n",
    "\n",
    "getattr method method is used for fetching undefined attributes only (i.e., those not present on an instance and not inherited from any of its classes).\n",
    "\n",
    "getattribute method is called for every attribute fetch, whether the attribute is defined or not. Because of this, code inside a getattr can freely fetchother attributes if they are defined, whereas getattribute must use special codefor all such attribute fetches to avoid looping or extra calls."
   ]
  },
  {
   "cell_type": "markdown",
   "id": "f97ab881",
   "metadata": {},
   "source": [
    "# Q2.\n",
    "\n",
    "Properties: We can bind getter, setter and delete functions with an attribute name, using the built-in property function. When we do this, each reference to an attribute looks like simple, direct access, but invokes the appropriate function of the object.\n",
    "\n",
    "Descriptors: We can bind getter, setter (and deleter) functions into a separate class. We then assign an object of this class to the attribute name. When we do this, each reference to an attribute looks like simple, direct access, but invokes an appropriate function of the Descriptor object.\n"
   ]
  },
  {
   "cell_type": "markdown",
   "id": "58d47d45",
   "metadata": {},
   "source": [
    "# Q3.\n",
    "\n",
    "getattr : It return the value of attributes which is constructed inside the class and having an class object which store its value.\n",
    "\n",
    "If the attribute is not present inside the class and if default value is provided in the syntax only then it will return that value else it will show attribute error\n",
    "\n",
    "getattribute : This method will invoked before looking at the actual attributes on the object. Means, if ywe have getattribute method in our class, python invokes this method for every attribute regardless whether it exists or not.\n",
    "\n",
    "Properties: We can bind getter, setter and delete functions with an attribute name, using the built-in property function. When we do this, each reference to an attribute looks like simple, direct access, but invokes the appropriate function of the object.\n",
    "\n",
    "Descriptors: We can bind getter, setter (and deleter) functions into a separate class. We then assign an object of this class to the attribute name. When we do this, each reference to an attribute looks like simple, direct access, but invokes an appropriate function of the Descriptor object."
   ]
  }
 ],
 "metadata": {
  "kernelspec": {
   "display_name": "Python 3 (ipykernel)",
   "language": "python",
   "name": "python3"
  },
  "language_info": {
   "codemirror_mode": {
    "name": "ipython",
    "version": 3
   },
   "file_extension": ".py",
   "mimetype": "text/x-python",
   "name": "python",
   "nbconvert_exporter": "python",
   "pygments_lexer": "ipython3",
   "version": "3.9.7"
  }
 },
 "nbformat": 4,
 "nbformat_minor": 5
}
