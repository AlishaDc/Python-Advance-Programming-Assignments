{
 "cells": [
  {
   "cell_type": "markdown",
   "id": "832af7f1",
   "metadata": {},
   "source": [
    "# Q1. \n",
    "\n",
    "Numpy array:\n",
    "\n",
    "This is in the form of matrix structure which have rows and columns. It generally performs python mathematical operation which is not genrally easy manually to perfomr in coding case. It may be of any dimensions like 1-d, 2-d, 3-d, 4-d, etc depend upon the use to requirement. Unlike dataframe, numpy array are not in a tabular form which ahve records and have fields instead it is in the form of matrices. It can have single row and single column as well but dataframe poses more than one column.\n",
    "\n",
    "DataFrame:\n",
    "\n",
    "This is a kind of tabular structure format which are having more than one column. Unlike numpy array which can have more single as well as many number of columns, but dataframe have more than one column. Dataframe can have any number of dimensons but it should be more than one. We can use numpy array operation in dataframe and can also convert the numpy array into dataframe."
   ]
  },
  {
   "cell_type": "markdown",
   "id": "4375592d",
   "metadata": {},
   "source": [
    "# Q3.\n",
    "\n",
    "These are some pot that are used to produce stock-market chart\n",
    "\n",
    "Line Chart.\n",
    "Point Chart.\n",
    "Candlestick Chart.\n",
    "Bar Chart."
   ]
  },
  {
   "cell_type": "markdown",
   "id": "c8a7d1ca",
   "metadata": {},
   "source": [
    "# Q4.\n",
    "\n",
    "Legends adds a beauty to visualize the trend of data w.r.t. different features. It creates the different trend in different colors indicating that which is belong to which trend is belong to which feature."
   ]
  },
  {
   "cell_type": "markdown",
   "id": "01a873f2",
   "metadata": {},
   "source": [
    "# Q5.\n",
    "\n",
    "We can use start and end parameters for that. In start we write the date from where we are starting and at the end we write the end date. SO within this span we can restric the duration. Also we can use the parameters like periods for how much times we need the duration and we can also use the frequency parameter."
   ]
  },
  {
   "cell_type": "markdown",
   "id": "0f751a64",
   "metadata": {},
   "source": [
    "# Q6.\n",
    "\n",
    "Moving Averages help to filter out market noise and smooth out fluctuations in price. In statistics, a moving average is a calculation used to analyze data points by creating a series of averages of different subsets of the full data set.\n",
    "\n",
    "180-day moving average means A simple moving average (SMA) is a arithmetic mean of a given set of prices over the 180 days in the past"
   ]
  }
 ],
 "metadata": {
  "kernelspec": {
   "display_name": "Python 3 (ipykernel)",
   "language": "python",
   "name": "python3"
  },
  "language_info": {
   "codemirror_mode": {
    "name": "ipython",
    "version": 3
   },
   "file_extension": ".py",
   "mimetype": "text/x-python",
   "name": "python",
   "nbconvert_exporter": "python",
   "pygments_lexer": "ipython3",
   "version": "3.9.7"
  }
 },
 "nbformat": 4,
 "nbformat_minor": 5
}
