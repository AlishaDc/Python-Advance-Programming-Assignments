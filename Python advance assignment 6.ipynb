{
 "cells": [
  {
   "cell_type": "markdown",
   "id": "1fc6eb97",
   "metadata": {},
   "source": [
    "# Q1.\n",
    "\n",
    "Exception processing is applied for handling the errors.\n",
    "\n",
    "Providing necessary notification on occurrence of certain events.\n",
    "\n",
    "Providing handover control of the code using return, break etc."
   ]
  },
  {
   "cell_type": "markdown",
   "id": "56790585",
   "metadata": {},
   "source": [
    "# Q2.\n",
    "\n",
    "If nothing special is doen to handle the exception then if code is not correctly then then the whole programm will not able able to proceesed further and in the display lon error description comes. Secondaly it is very dangrous also. Suppose there is a very crucial program written and if it gets failed and we havent written any special exception then no one can ever understand the issue and problem and he cannot tell the programm about the code."
   ]
  },
  {
   "cell_type": "markdown",
   "id": "d00a51ac",
   "metadata": {},
   "source": [
    "# Q3.\n",
    "\n",
    "Using the try-except we can catch and recover. After the exception is handled, the program will continue after the try-except block."
   ]
  },
  {
   "cell_type": "markdown",
   "id": "3fcf0c71",
   "metadata": {},
   "source": [
    "# Q4.\n",
    "\n",
    "raise and assert statements are used triggering exceptions."
   ]
  },
  {
   "cell_type": "markdown",
   "id": "816f2313",
   "metadata": {},
   "source": [
    "# Q5.\n",
    "\n",
    "try/finally statement. The finally clause will execute as the last task before the try statement completes. The finally clause runs whether or not the try statement produces an exception."
   ]
  },
  {
   "cell_type": "code",
   "execution_count": null,
   "id": "5e0c9d97",
   "metadata": {},
   "outputs": [],
   "source": []
  }
 ],
 "metadata": {
  "kernelspec": {
   "display_name": "Python 3 (ipykernel)",
   "language": "python",
   "name": "python3"
  },
  "language_info": {
   "codemirror_mode": {
    "name": "ipython",
    "version": 3
   },
   "file_extension": ".py",
   "mimetype": "text/x-python",
   "name": "python",
   "nbconvert_exporter": "python",
   "pygments_lexer": "ipython3",
   "version": "3.9.7"
  }
 },
 "nbformat": 4,
 "nbformat_minor": 5
}
