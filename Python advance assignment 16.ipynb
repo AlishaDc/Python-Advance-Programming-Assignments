{
 "cells": [
  {
   "cell_type": "markdown",
   "id": "8cfb0363",
   "metadata": {},
   "source": [
    "# Q1.\n",
    "\n",
    "Using regular expression, one can easily identity the pattern and extract the required values texts from a strings or lines."
   ]
  },
  {
   "cell_type": "markdown",
   "id": "7a35e058",
   "metadata": {},
   "source": [
    "# Q2."
   ]
  },
  {
   "cell_type": "code",
   "execution_count": 1,
   "id": "b2730bf8",
   "metadata": {},
   "outputs": [
    {
     "name": "stdout",
     "output_type": "stream",
     "text": [
      "a(bc)+\n"
     ]
    }
   ],
   "source": [
    "# Both are valid patterns\n",
    "import re\n",
    "text= \"a(bc)+\"\n",
    "print(text)"
   ]
  },
  {
   "cell_type": "code",
   "execution_count": 2,
   "id": "5082ac23",
   "metadata": {},
   "outputs": [
    {
     "name": "stdout",
     "output_type": "stream",
     "text": [
      "(ab)c+\n"
     ]
    }
   ],
   "source": [
    "text1= \"(ab)c+\"\n",
    "print(text1)"
   ]
  },
  {
   "cell_type": "markdown",
   "id": "8d402e5a",
   "metadata": {},
   "source": [
    "# Q3.\n",
    "\n",
    "One has to import re to using the regular expressions."
   ]
  },
  {
   "cell_type": "markdown",
   "id": "d0a4def9",
   "metadata": {},
   "source": [
    "# Q4.\n",
    "\n",
    "The characters ., *, ?, ^ or () have special significance when used in square brackets. They need not be escacped by '\\' as in case of patterns texts in raw string."
   ]
  },
  {
   "cell_type": "code",
   "execution_count": 4,
   "id": "22accb2b",
   "metadata": {},
   "outputs": [
    {
     "name": "stdout",
     "output_type": "stream",
     "text": [
      "['1', '2', '3', '4', '5', '^']\n"
     ]
    }
   ],
   "source": [
    "import re\n",
    "text = \"Hello world 123456^\"\n",
    "regobj=re.compile(r'[1-5^]')\n",
    "matobj=regobj.findall(text)\n",
    "print(matobj)"
   ]
  },
  {
   "cell_type": "markdown",
   "id": "ffe6813d",
   "metadata": {},
   "source": [
    "# Q5.\n",
    "\n",
    "Combine a regular expression pattern into pattern objects, which can be used for pattern matching. It also helps to search a pattern again without rewriting it."
   ]
  },
  {
   "cell_type": "markdown",
   "id": "00d257a4",
   "metadata": {},
   "source": [
    "# Q6.\n",
    "\n",
    "re.search() searches for the whole string even if the string contains multi-lines and tries to find a match of the substring in all the lines of string. It returns the first occurrence or match of search substring\n",
    "\n",
    "re.match() searches only from the beginning of the string and return match object if found. But if a match of substring is found somewhere in the middle of the string, it returns none. It also returns a first occurrence or match of search substring."
   ]
  },
  {
   "cell_type": "markdown",
   "id": "b67dd8cc",
   "metadata": {},
   "source": [
    "# Q7.\n",
    "\n",
    "When (|) is used the pattern searches for 'or' option i.e | means it searches for as or . When both and occur in the searched string, the first occurrence of matching text will be returned as the Match object\n",
    "\n",
    "Using character set in square brackets is used, it searches for all the character set in the square bracket and if match found it returns it"
   ]
  },
  {
   "cell_type": "markdown",
   "id": "66218518",
   "metadata": {},
   "source": [
    "# Q8.\n",
    "\n",
    "Raw strings are used in regular expression search patterns, so that backslashes do not have to be escaped"
   ]
  },
  {
   "cell_type": "code",
   "execution_count": null,
   "id": "ccd4b38e",
   "metadata": {},
   "outputs": [],
   "source": []
  }
 ],
 "metadata": {
  "kernelspec": {
   "display_name": "Python 3 (ipykernel)",
   "language": "python",
   "name": "python3"
  },
  "language_info": {
   "codemirror_mode": {
    "name": "ipython",
    "version": 3
   },
   "file_extension": ".py",
   "mimetype": "text/x-python",
   "name": "python",
   "nbconvert_exporter": "python",
   "pygments_lexer": "ipython3",
   "version": "3.9.7"
  }
 },
 "nbformat": 4,
 "nbformat_minor": 5
}
